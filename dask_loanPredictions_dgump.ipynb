{
 "cells": [
  {
   "cell_type": "markdown",
   "metadata": {},
   "source": [
    "A big data re-implemenation of a supervised learning project\n",
    "\n",
    "# Small Business Administration - Predicting Loan Default\n",
    "<br/>\n",
    "  The following code uses the cleaned and prepared data created in the accompanying data cleaning notebook. Changes to the data cleaning were made, and the difference was compared with the best classifier. If running cells, be sure the appropriate data is currently in memory (including variables). \n",
    "\n",
    "<br/>\n",
    "\n",
    "  The best model was Gradient Boosting Classifier. Accuracy, precision, and recall were 0.88, 0.68, 0.95. This was done with down sampled data to address an imbalance of the target class. Precision was deliberately cut to increase recall, as identifying a loan that will default is more important than identifying a loan that will be paid off, as the SBA is responsible for a portion of these defaulted laons. Important features seemed to be related to prescreening-like metrics and business growth. \n",
    "\n",
    "<br/>\n",
    "\n",
    "  Some features were deliberately dropped, such as the amounth the SBA gaurenteed. This problem is framed in the context of deciding whether the SBA should back a loan, so any information dependent on this decision was excluded. \n",
    "\n",
    "<br/>\n",
    "\n",
    "\n",
    "Several other models, such as random forests and logistic regression were tried, but were outperformed by the XGBoost Classifier.\n",
    "<br/>\n",
    "* SBA Link: https://www.sba.gov/offices/headquarters/ofa/resources/11421\n",
    "* Link to original Kaggle set: https://www.kaggle.com/mirbektoktogaraev/should-this-loan-be-approved-or-denied\n"
   ]
  },
  {
   "cell_type": "code",
   "execution_count": 1,
   "metadata": {},
   "outputs": [
    {
     "data": {
      "application/javascript": [
       "\n",
       "            setTimeout(function() {\n",
       "                var nbb_cell_id = 1;\n",
       "                var nbb_unformatted_code = \"%reload_ext nb_black\";\n",
       "                var nbb_formatted_code = \"%reload_ext nb_black\";\n",
       "                var nbb_cells = Jupyter.notebook.get_cells();\n",
       "                for (var i = 0; i < nbb_cells.length; ++i) {\n",
       "                    if (nbb_cells[i].input_prompt_number == nbb_cell_id) {\n",
       "                        if (nbb_cells[i].get_text() == nbb_unformatted_code) {\n",
       "                             nbb_cells[i].set_text(nbb_formatted_code);\n",
       "                        }\n",
       "                        break;\n",
       "                    }\n",
       "                }\n",
       "            }, 500);\n",
       "            "
      ],
      "text/plain": [
       "<IPython.core.display.Javascript object>"
      ]
     },
     "metadata": {},
     "output_type": "display_data"
    }
   ],
   "source": [
    "%reload_ext nb_black"
   ]
  },
  {
   "cell_type": "code",
   "execution_count": null,
   "metadata": {},
   "outputs": [],
   "source": []
  },
  {
   "cell_type": "code",
   "execution_count": 2,
   "metadata": {},
   "outputs": [
    {
     "data": {
      "application/javascript": [
       "\n",
       "            setTimeout(function() {\n",
       "                var nbb_cell_id = 2;\n",
       "                var nbb_unformatted_code = \"import numpy as np\\nimport pandas as pd\\nfrom matplotlib import pyplot as plt\\nimport seaborn as sns\\n\\nfrom sklearn.pipeline import Pipeline\\nfrom sklearn.compose import ColumnTransformer\\nfrom sklearn.model_selection import train_test_split, GridSearchCV\\nfrom sklearn.impute import KNNImputer, SimpleImputer\\n\\nfrom sklearn.preprocessing import StandardScaler, OneHotEncoder\\nfrom category_encoders import LeaveOneOutEncoder\\nfrom sklearn.metrics import (\\n    classification_report,\\n    confusion_matrix,\\n    f1_score,\\n    fbeta_score,\\n    plot_confusion_matrix,\\n    plot_precision_recall_curve,\\n    plot_roc_curve,\\n)\\nfrom sklearn.ensemble import RandomForestClassifier\\nfrom sklearn.linear_model import LogisticRegression\\n\\n# Replace with whatever model import(s) you're using\\nfrom xgboost import XGBClassifier\\n\\n\\n%matplotlib inline\\npd.options.display.max_rows = 999\\npd.options.display.max_columns = 999\";\n",
       "                var nbb_formatted_code = \"import numpy as np\\nimport pandas as pd\\nfrom matplotlib import pyplot as plt\\nimport seaborn as sns\\n\\nfrom sklearn.pipeline import Pipeline\\nfrom sklearn.compose import ColumnTransformer\\nfrom sklearn.model_selection import train_test_split, GridSearchCV\\nfrom sklearn.impute import KNNImputer, SimpleImputer\\n\\nfrom sklearn.preprocessing import StandardScaler, OneHotEncoder\\nfrom category_encoders import LeaveOneOutEncoder\\nfrom sklearn.metrics import (\\n    classification_report,\\n    confusion_matrix,\\n    f1_score,\\n    fbeta_score,\\n    plot_confusion_matrix,\\n    plot_precision_recall_curve,\\n    plot_roc_curve,\\n)\\nfrom sklearn.ensemble import RandomForestClassifier\\nfrom sklearn.linear_model import LogisticRegression\\n\\n# Replace with whatever model import(s) you're using\\nfrom xgboost import XGBClassifier\\n\\n\\n%matplotlib inline\\npd.options.display.max_rows = 999\\npd.options.display.max_columns = 999\";\n",
       "                var nbb_cells = Jupyter.notebook.get_cells();\n",
       "                for (var i = 0; i < nbb_cells.length; ++i) {\n",
       "                    if (nbb_cells[i].input_prompt_number == nbb_cell_id) {\n",
       "                        if (nbb_cells[i].get_text() == nbb_unformatted_code) {\n",
       "                             nbb_cells[i].set_text(nbb_formatted_code);\n",
       "                        }\n",
       "                        break;\n",
       "                    }\n",
       "                }\n",
       "            }, 500);\n",
       "            "
      ],
      "text/plain": [
       "<IPython.core.display.Javascript object>"
      ]
     },
     "metadata": {},
     "output_type": "display_data"
    }
   ],
   "source": [
    "import numpy as np\n",
    "import pandas as pd\n",
    "from matplotlib import pyplot as plt\n",
    "import seaborn as sns\n",
    "\n",
    "from sklearn.pipeline import Pipeline\n",
    "from sklearn.compose import ColumnTransformer\n",
    "from sklearn.model_selection import train_test_split, GridSearchCV\n",
    "from sklearn.impute import KNNImputer, SimpleImputer\n",
    "\n",
    "from sklearn.preprocessing import StandardScaler, OneHotEncoder\n",
    "from category_encoders import LeaveOneOutEncoder\n",
    "from sklearn.metrics import (\n",
    "    classification_report,\n",
    "    confusion_matrix,\n",
    "    f1_score,\n",
    "    fbeta_score,\n",
    "    plot_confusion_matrix,\n",
    "    plot_precision_recall_curve,\n",
    "    plot_roc_curve,\n",
    ")\n",
    "from sklearn.ensemble import RandomForestClassifier\n",
    "from sklearn.linear_model import LogisticRegression\n",
    "\n",
    "# Replace with whatever model import(s) you're using\n",
    "from xgboost import XGBClassifier\n",
    "\n",
    "\n",
    "%matplotlib inline\n",
    "pd.options.display.max_rows = 999\n",
    "pd.options.display.max_columns = 999"
   ]
  },
  {
   "cell_type": "code",
   "execution_count": 3,
   "metadata": {},
   "outputs": [
    {
     "data": {
      "application/javascript": [
       "\n",
       "            setTimeout(function() {\n",
       "                var nbb_cell_id = 3;\n",
       "                var nbb_unformatted_code = \"import dask\\nimport dask.dataframe as dd\\nimport joblib\";\n",
       "                var nbb_formatted_code = \"import dask\\nimport dask.dataframe as dd\\nimport joblib\";\n",
       "                var nbb_cells = Jupyter.notebook.get_cells();\n",
       "                for (var i = 0; i < nbb_cells.length; ++i) {\n",
       "                    if (nbb_cells[i].input_prompt_number == nbb_cell_id) {\n",
       "                        if (nbb_cells[i].get_text() == nbb_unformatted_code) {\n",
       "                             nbb_cells[i].set_text(nbb_formatted_code);\n",
       "                        }\n",
       "                        break;\n",
       "                    }\n",
       "                }\n",
       "            }, 500);\n",
       "            "
      ],
      "text/plain": [
       "<IPython.core.display.Javascript object>"
      ]
     },
     "metadata": {},
     "output_type": "display_data"
    }
   ],
   "source": [
    "import dask\n",
    "import dask.dataframe as dd\n",
    "import joblib"
   ]
  },
  {
   "cell_type": "code",
   "execution_count": 4,
   "metadata": {},
   "outputs": [
    {
     "data": {
      "application/javascript": [
       "\n",
       "            setTimeout(function() {\n",
       "                var nbb_cell_id = 4;\n",
       "                var nbb_unformatted_code = \"# setting up dask\\nimport warnings\\n\\nwarnings.filterwarnings(\\\"ignore\\\")\\n\\nfrom dask.distributed import Client, progress\\n\\n# client = Client(n_workers=4, threads_per_worker=2, memory_limit=\\\"2GB\\\")\\n# client\";\n",
       "                var nbb_formatted_code = \"# setting up dask\\nimport warnings\\n\\nwarnings.filterwarnings(\\\"ignore\\\")\\n\\nfrom dask.distributed import Client, progress\\n\\n# client = Client(n_workers=4, threads_per_worker=2, memory_limit=\\\"2GB\\\")\\n# client\";\n",
       "                var nbb_cells = Jupyter.notebook.get_cells();\n",
       "                for (var i = 0; i < nbb_cells.length; ++i) {\n",
       "                    if (nbb_cells[i].input_prompt_number == nbb_cell_id) {\n",
       "                        if (nbb_cells[i].get_text() == nbb_unformatted_code) {\n",
       "                             nbb_cells[i].set_text(nbb_formatted_code);\n",
       "                        }\n",
       "                        break;\n",
       "                    }\n",
       "                }\n",
       "            }, 500);\n",
       "            "
      ],
      "text/plain": [
       "<IPython.core.display.Javascript object>"
      ]
     },
     "metadata": {},
     "output_type": "display_data"
    }
   ],
   "source": [
    "# setting up dask\n",
    "import warnings\n",
    "\n",
    "warnings.filterwarnings(\"ignore\")\n",
    "\n",
    "from dask.distributed import Client, progress\n",
    "\n",
    "# client = Client(n_workers=4, threads_per_worker=2, memory_limit=\"2GB\")\n",
    "# client"
   ]
  },
  {
   "cell_type": "code",
   "execution_count": 5,
   "metadata": {},
   "outputs": [
    {
     "data": {
      "application/javascript": [
       "\n",
       "            setTimeout(function() {\n",
       "                var nbb_cell_id = 5;\n",
       "                var nbb_unformatted_code = \"def print_vif(x, cols):\\n    import warnings\\n    import statsmodels.api as sm\\n    from statsmodels.stats.outliers_influence import variance_inflation_factor\\n\\n    \\\"\\\"\\\"Utility for checking multicollinearity assumption\\n    \\n    :param x: input features to check using VIF. This is assumed to be a pandas.DataFrame\\n    :return: nothing is returned the VIFs are printed as a pandas series\\n    \\\"\\\"\\\"\\n    # Silence numpy FutureWarning about .ptp\\n    with warnings.catch_warnings():\\n        warnings.simplefilter(\\\"ignore\\\")\\n        x = sm.add_constant(x)\\n\\n    vifs = []\\n    for i in range(x.shape[1]):\\n        vif = variance_inflation_factor(x, i)\\n        vifs.append(vif)\\n\\n    cols = cols.insert(0, \\\"Const\\\")\\n    print(\\\"VIF results\\\\n-------------------------------\\\")\\n    print(pd.Series(vifs, index=cols))\\n    print(\\\"-------------------------------\\\\n\\\")\";\n",
       "                var nbb_formatted_code = \"def print_vif(x, cols):\\n    import warnings\\n    import statsmodels.api as sm\\n    from statsmodels.stats.outliers_influence import variance_inflation_factor\\n\\n    \\\"\\\"\\\"Utility for checking multicollinearity assumption\\n    \\n    :param x: input features to check using VIF. This is assumed to be a pandas.DataFrame\\n    :return: nothing is returned the VIFs are printed as a pandas series\\n    \\\"\\\"\\\"\\n    # Silence numpy FutureWarning about .ptp\\n    with warnings.catch_warnings():\\n        warnings.simplefilter(\\\"ignore\\\")\\n        x = sm.add_constant(x)\\n\\n    vifs = []\\n    for i in range(x.shape[1]):\\n        vif = variance_inflation_factor(x, i)\\n        vifs.append(vif)\\n\\n    cols = cols.insert(0, \\\"Const\\\")\\n    print(\\\"VIF results\\\\n-------------------------------\\\")\\n    print(pd.Series(vifs, index=cols))\\n    print(\\\"-------------------------------\\\\n\\\")\";\n",
       "                var nbb_cells = Jupyter.notebook.get_cells();\n",
       "                for (var i = 0; i < nbb_cells.length; ++i) {\n",
       "                    if (nbb_cells[i].input_prompt_number == nbb_cell_id) {\n",
       "                        if (nbb_cells[i].get_text() == nbb_unformatted_code) {\n",
       "                             nbb_cells[i].set_text(nbb_formatted_code);\n",
       "                        }\n",
       "                        break;\n",
       "                    }\n",
       "                }\n",
       "            }, 500);\n",
       "            "
      ],
      "text/plain": [
       "<IPython.core.display.Javascript object>"
      ]
     },
     "metadata": {},
     "output_type": "display_data"
    }
   ],
   "source": [
    "def print_vif(x, cols):\n",
    "    import warnings\n",
    "    import statsmodels.api as sm\n",
    "    from statsmodels.stats.outliers_influence import variance_inflation_factor\n",
    "\n",
    "    \"\"\"Utility for checking multicollinearity assumption\n",
    "    \n",
    "    :param x: input features to check using VIF. This is assumed to be a pandas.DataFrame\n",
    "    :return: nothing is returned the VIFs are printed as a pandas series\n",
    "    \"\"\"\n",
    "    # Silence numpy FutureWarning about .ptp\n",
    "    with warnings.catch_warnings():\n",
    "        warnings.simplefilter(\"ignore\")\n",
    "        x = sm.add_constant(x)\n",
    "\n",
    "    vifs = []\n",
    "    for i in range(x.shape[1]):\n",
    "        vif = variance_inflation_factor(x, i)\n",
    "        vifs.append(vif)\n",
    "\n",
    "    cols = cols.insert(0, \"Const\")\n",
    "    print(\"VIF results\\n-------------------------------\")\n",
    "    print(pd.Series(vifs, index=cols))\n",
    "    print(\"-------------------------------\\n\")"
   ]
  },
  {
   "cell_type": "markdown",
   "metadata": {},
   "source": [
    "### Loading in the data. Two methods were done to clean, and the best model compared the two. The second cleaning is the better data."
   ]
  },
  {
   "cell_type": "code",
   "execution_count": 6,
   "metadata": {},
   "outputs": [
    {
     "data": {
      "application/javascript": [
       "\n",
       "            setTimeout(function() {\n",
       "                var nbb_cell_id = 6;\n",
       "                var nbb_unformatted_code = \"# the data was cleaned twice.\\n# loans = pd.read_csv(\\\"data/sba_loans_cleaned2.csv\\\")\\n# loans.info()\\n\\n# loans2 = pd.read_csv(\\\"data/sba_loans_cleaned3.csv\\\")\\n\\nloans = dd.read_csv(\\\"data/sba_loans_cleaned3.csv\\\")\";\n",
       "                var nbb_formatted_code = \"# the data was cleaned twice.\\n# loans = pd.read_csv(\\\"data/sba_loans_cleaned2.csv\\\")\\n# loans.info()\\n\\n# loans2 = pd.read_csv(\\\"data/sba_loans_cleaned3.csv\\\")\\n\\nloans = dd.read_csv(\\\"data/sba_loans_cleaned3.csv\\\")\";\n",
       "                var nbb_cells = Jupyter.notebook.get_cells();\n",
       "                for (var i = 0; i < nbb_cells.length; ++i) {\n",
       "                    if (nbb_cells[i].input_prompt_number == nbb_cell_id) {\n",
       "                        if (nbb_cells[i].get_text() == nbb_unformatted_code) {\n",
       "                             nbb_cells[i].set_text(nbb_formatted_code);\n",
       "                        }\n",
       "                        break;\n",
       "                    }\n",
       "                }\n",
       "            }, 500);\n",
       "            "
      ],
      "text/plain": [
       "<IPython.core.display.Javascript object>"
      ]
     },
     "metadata": {},
     "output_type": "display_data"
    }
   ],
   "source": [
    "# the data was cleaned twice.\n",
    "# loans = pd.read_csv(\"data/sba_loans_cleaned2.csv\")\n",
    "# loans.info()\n",
    "\n",
    "# loans2 = pd.read_csv(\"data/sba_loans_cleaned3.csv\")\n",
    "\n",
    "loans = dd.read_csv(\"data/sba_loans_cleaned3.csv\")"
   ]
  },
  {
   "cell_type": "code",
   "execution_count": 7,
   "metadata": {},
   "outputs": [
    {
     "data": {
      "text/html": [
       "<div>\n",
       "<style scoped>\n",
       "    .dataframe tbody tr th:only-of-type {\n",
       "        vertical-align: middle;\n",
       "    }\n",
       "\n",
       "    .dataframe tbody tr th {\n",
       "        vertical-align: top;\n",
       "    }\n",
       "\n",
       "    .dataframe thead th {\n",
       "        text-align: right;\n",
       "    }\n",
       "</style>\n",
       "<table border=\"1\" class=\"dataframe\">\n",
       "  <thead>\n",
       "    <tr style=\"text-align: right;\">\n",
       "      <th></th>\n",
       "      <th>State</th>\n",
       "      <th>BankState</th>\n",
       "      <th>ApprovalFY</th>\n",
       "      <th>NoEmp</th>\n",
       "      <th>NewExist</th>\n",
       "      <th>RevLineCr</th>\n",
       "      <th>LowDoc</th>\n",
       "      <th>DisbursementGross</th>\n",
       "      <th>MIS_Status</th>\n",
       "      <th>twoDigNAICS</th>\n",
       "      <th>is_franchise</th>\n",
       "      <th>bank_out_of_state</th>\n",
       "      <th>Term_years</th>\n",
       "      <th>job_category</th>\n",
       "      <th>retained_category</th>\n",
       "      <th>UrbanRural_cleaned</th>\n",
       "      <th>Disbr_year</th>\n",
       "      <th>Disbr_Month_sin</th>\n",
       "      <th>Disbr_Month_cos</th>\n",
       "      <th>sba_pre_approv</th>\n",
       "      <th>percent_SBA</th>\n",
       "      <th>bank_size</th>\n",
       "      <th>Appv_Month_sin</th>\n",
       "      <th>Appv_Month_cos</th>\n",
       "    </tr>\n",
       "  </thead>\n",
       "  <tbody>\n",
       "    <tr>\n",
       "      <th>0</th>\n",
       "      <td>NC</td>\n",
       "      <td>MN</td>\n",
       "      <td>2006</td>\n",
       "      <td>2</td>\n",
       "      <td>1</td>\n",
       "      <td>0.0</td>\n",
       "      <td>0.0</td>\n",
       "      <td>253400.0</td>\n",
       "      <td>0</td>\n",
       "      <td>44</td>\n",
       "      <td>1.0</td>\n",
       "      <td>0</td>\n",
       "      <td>13.500000</td>\n",
       "      <td>0.0</td>\n",
       "      <td>0.0</td>\n",
       "      <td>0.0</td>\n",
       "      <td>2006</td>\n",
       "      <td>0.866025</td>\n",
       "      <td>5.000000e-01</td>\n",
       "      <td>1.0</td>\n",
       "      <td>0.75</td>\n",
       "      <td>1.0</td>\n",
       "      <td>0.5</td>\n",
       "      <td>0.866025</td>\n",
       "    </tr>\n",
       "    <tr>\n",
       "      <th>1</th>\n",
       "      <td>AR</td>\n",
       "      <td>MS</td>\n",
       "      <td>2006</td>\n",
       "      <td>7</td>\n",
       "      <td>0</td>\n",
       "      <td>0.0</td>\n",
       "      <td>0.0</td>\n",
       "      <td>137300.0</td>\n",
       "      <td>0</td>\n",
       "      <td>72</td>\n",
       "      <td>0.0</td>\n",
       "      <td>0</td>\n",
       "      <td>10.500000</td>\n",
       "      <td>0.0</td>\n",
       "      <td>0.0</td>\n",
       "      <td>0.0</td>\n",
       "      <td>2006</td>\n",
       "      <td>1.000000</td>\n",
       "      <td>6.123234e-17</td>\n",
       "      <td>1.0</td>\n",
       "      <td>0.85</td>\n",
       "      <td>0.0</td>\n",
       "      <td>0.5</td>\n",
       "      <td>0.866025</td>\n",
       "    </tr>\n",
       "    <tr>\n",
       "      <th>2</th>\n",
       "      <td>CA</td>\n",
       "      <td>SD</td>\n",
       "      <td>2006</td>\n",
       "      <td>18</td>\n",
       "      <td>1</td>\n",
       "      <td>1.0</td>\n",
       "      <td>0.0</td>\n",
       "      <td>438541.0</td>\n",
       "      <td>0</td>\n",
       "      <td>61</td>\n",
       "      <td>0.0</td>\n",
       "      <td>0</td>\n",
       "      <td>6.916667</td>\n",
       "      <td>1.0</td>\n",
       "      <td>2.0</td>\n",
       "      <td>0.0</td>\n",
       "      <td>2006</td>\n",
       "      <td>0.500000</td>\n",
       "      <td>8.660254e-01</td>\n",
       "      <td>1.0</td>\n",
       "      <td>0.50</td>\n",
       "      <td>2.0</td>\n",
       "      <td>0.5</td>\n",
       "      <td>0.866025</td>\n",
       "    </tr>\n",
       "    <tr>\n",
       "      <th>3</th>\n",
       "      <td>FL</td>\n",
       "      <td>FL</td>\n",
       "      <td>2006</td>\n",
       "      <td>4</td>\n",
       "      <td>0</td>\n",
       "      <td>1.0</td>\n",
       "      <td>0.0</td>\n",
       "      <td>51440.0</td>\n",
       "      <td>0</td>\n",
       "      <td>23</td>\n",
       "      <td>0.0</td>\n",
       "      <td>1</td>\n",
       "      <td>7.000000</td>\n",
       "      <td>0.0</td>\n",
       "      <td>1.0</td>\n",
       "      <td>0.0</td>\n",
       "      <td>2006</td>\n",
       "      <td>0.500000</td>\n",
       "      <td>8.660254e-01</td>\n",
       "      <td>1.0</td>\n",
       "      <td>0.50</td>\n",
       "      <td>2.0</td>\n",
       "      <td>0.5</td>\n",
       "      <td>0.866025</td>\n",
       "    </tr>\n",
       "    <tr>\n",
       "      <th>4</th>\n",
       "      <td>LA</td>\n",
       "      <td>LA</td>\n",
       "      <td>2006</td>\n",
       "      <td>3</td>\n",
       "      <td>0</td>\n",
       "      <td>0.0</td>\n",
       "      <td>0.0</td>\n",
       "      <td>50000.0</td>\n",
       "      <td>0</td>\n",
       "      <td>53</td>\n",
       "      <td>0.0</td>\n",
       "      <td>1</td>\n",
       "      <td>5.000000</td>\n",
       "      <td>0.0</td>\n",
       "      <td>0.0</td>\n",
       "      <td>0.0</td>\n",
       "      <td>2006</td>\n",
       "      <td>0.866025</td>\n",
       "      <td>-5.000000e-01</td>\n",
       "      <td>1.0</td>\n",
       "      <td>0.85</td>\n",
       "      <td>0.0</td>\n",
       "      <td>0.5</td>\n",
       "      <td>0.866025</td>\n",
       "    </tr>\n",
       "  </tbody>\n",
       "</table>\n",
       "</div>"
      ],
      "text/plain": [
       "  State BankState  ApprovalFY  NoEmp  NewExist  RevLineCr  LowDoc  \\\n",
       "0    NC        MN        2006      2         1        0.0     0.0   \n",
       "1    AR        MS        2006      7         0        0.0     0.0   \n",
       "2    CA        SD        2006     18         1        1.0     0.0   \n",
       "3    FL        FL        2006      4         0        1.0     0.0   \n",
       "4    LA        LA        2006      3         0        0.0     0.0   \n",
       "\n",
       "   DisbursementGross  MIS_Status  twoDigNAICS  is_franchise  \\\n",
       "0           253400.0           0           44           1.0   \n",
       "1           137300.0           0           72           0.0   \n",
       "2           438541.0           0           61           0.0   \n",
       "3            51440.0           0           23           0.0   \n",
       "4            50000.0           0           53           0.0   \n",
       "\n",
       "   bank_out_of_state  Term_years  job_category  retained_category  \\\n",
       "0                  0   13.500000           0.0                0.0   \n",
       "1                  0   10.500000           0.0                0.0   \n",
       "2                  0    6.916667           1.0                2.0   \n",
       "3                  1    7.000000           0.0                1.0   \n",
       "4                  1    5.000000           0.0                0.0   \n",
       "\n",
       "   UrbanRural_cleaned  Disbr_year  Disbr_Month_sin  Disbr_Month_cos  \\\n",
       "0                 0.0        2006         0.866025     5.000000e-01   \n",
       "1                 0.0        2006         1.000000     6.123234e-17   \n",
       "2                 0.0        2006         0.500000     8.660254e-01   \n",
       "3                 0.0        2006         0.500000     8.660254e-01   \n",
       "4                 0.0        2006         0.866025    -5.000000e-01   \n",
       "\n",
       "   sba_pre_approv  percent_SBA  bank_size  Appv_Month_sin  Appv_Month_cos  \n",
       "0             1.0         0.75        1.0             0.5        0.866025  \n",
       "1             1.0         0.85        0.0             0.5        0.866025  \n",
       "2             1.0         0.50        2.0             0.5        0.866025  \n",
       "3             1.0         0.50        2.0             0.5        0.866025  \n",
       "4             1.0         0.85        0.0             0.5        0.866025  "
      ]
     },
     "execution_count": 7,
     "metadata": {},
     "output_type": "execute_result"
    },
    {
     "data": {
      "application/javascript": [
       "\n",
       "            setTimeout(function() {\n",
       "                var nbb_cell_id = 7;\n",
       "                var nbb_unformatted_code = \"loans.head()\";\n",
       "                var nbb_formatted_code = \"loans.head()\";\n",
       "                var nbb_cells = Jupyter.notebook.get_cells();\n",
       "                for (var i = 0; i < nbb_cells.length; ++i) {\n",
       "                    if (nbb_cells[i].input_prompt_number == nbb_cell_id) {\n",
       "                        if (nbb_cells[i].get_text() == nbb_unformatted_code) {\n",
       "                             nbb_cells[i].set_text(nbb_formatted_code);\n",
       "                        }\n",
       "                        break;\n",
       "                    }\n",
       "                }\n",
       "            }, 500);\n",
       "            "
      ],
      "text/plain": [
       "<IPython.core.display.Javascript object>"
      ]
     },
     "metadata": {},
     "output_type": "display_data"
    }
   ],
   "source": [
    "loans.head()"
   ]
  },
  {
   "cell_type": "code",
   "execution_count": 8,
   "metadata": {},
   "outputs": [
    {
     "data": {
      "application/javascript": [
       "\n",
       "            setTimeout(function() {\n",
       "                var nbb_cell_id = 8;\n",
       "                var nbb_unformatted_code = \"cat_cols = [\\n    \\\"State\\\",\\n    \\\"BankState\\\",\\n    \\\"twoDigNAICS\\\",\\n]\\n\\nordinal_cols = [\\n    \\\"job_category\\\",\\n    \\\"retained_category\\\",\\n    \\\"bank_size\\\",\\n]\\n\\nnum_cols = [\\n    # \\\"ApprovalFY\\\",\\n    \\\"NoEmp\\\",\\n    \\\"DisbursementGross\\\",\\n    \\\"Term_years\\\",  # untapped potential here\\n    \\\"Disbr_year\\\",  # may want to do some grouping by or transformation\\n]\\n\\nbin_cols = [\\\"NewExist\\\", \\\"is_franchise\\\", \\\"bank_out_of_state\\\", \\\"sba_pre_approv\\\"]\\n\\nother_cols = [\\n    \\\"Disbr_Month_sin\\\",\\n    \\\"Disbr_Month_cos\\\",\\n    \\\"Appv_Month_sin\\\",\\n    \\\"Appv_Month_cos\\\",\\n]  # not used, just documenting all cols\\n\\n# information that won't exist until a decision is made by the SBA\\nsba_cols = [\\n    \\\"Appv_Month_sin\\\",\\n    \\\"Appv_Month_cos\\\",\\n    \\\"sba_pre_approv\\\",\\n    \\\"percent_SBA\\\",\\n    \\\"ApprovalFY\\\",\\n]  # turn off for loans\\n\\n# impute_cols = [\\n#     \\\"RevLineCr\\\",\\n#     \\\"LowDoc\\\",\\n#     \\\"UrbanRural_cleaned\\\",\\n# ]\\n\\n# dropping na's until the imputer is working\\nloans = loans.dropna()\\n# loans2 = loans2.dropna()\";\n",
       "                var nbb_formatted_code = \"cat_cols = [\\n    \\\"State\\\",\\n    \\\"BankState\\\",\\n    \\\"twoDigNAICS\\\",\\n]\\n\\nordinal_cols = [\\n    \\\"job_category\\\",\\n    \\\"retained_category\\\",\\n    \\\"bank_size\\\",\\n]\\n\\nnum_cols = [\\n    # \\\"ApprovalFY\\\",\\n    \\\"NoEmp\\\",\\n    \\\"DisbursementGross\\\",\\n    \\\"Term_years\\\",  # untapped potential here\\n    \\\"Disbr_year\\\",  # may want to do some grouping by or transformation\\n]\\n\\nbin_cols = [\\\"NewExist\\\", \\\"is_franchise\\\", \\\"bank_out_of_state\\\", \\\"sba_pre_approv\\\"]\\n\\nother_cols = [\\n    \\\"Disbr_Month_sin\\\",\\n    \\\"Disbr_Month_cos\\\",\\n    \\\"Appv_Month_sin\\\",\\n    \\\"Appv_Month_cos\\\",\\n]  # not used, just documenting all cols\\n\\n# information that won't exist until a decision is made by the SBA\\nsba_cols = [\\n    \\\"Appv_Month_sin\\\",\\n    \\\"Appv_Month_cos\\\",\\n    \\\"sba_pre_approv\\\",\\n    \\\"percent_SBA\\\",\\n    \\\"ApprovalFY\\\",\\n]  # turn off for loans\\n\\n# impute_cols = [\\n#     \\\"RevLineCr\\\",\\n#     \\\"LowDoc\\\",\\n#     \\\"UrbanRural_cleaned\\\",\\n# ]\\n\\n# dropping na's until the imputer is working\\nloans = loans.dropna()\\n# loans2 = loans2.dropna()\";\n",
       "                var nbb_cells = Jupyter.notebook.get_cells();\n",
       "                for (var i = 0; i < nbb_cells.length; ++i) {\n",
       "                    if (nbb_cells[i].input_prompt_number == nbb_cell_id) {\n",
       "                        if (nbb_cells[i].get_text() == nbb_unformatted_code) {\n",
       "                             nbb_cells[i].set_text(nbb_formatted_code);\n",
       "                        }\n",
       "                        break;\n",
       "                    }\n",
       "                }\n",
       "            }, 500);\n",
       "            "
      ],
      "text/plain": [
       "<IPython.core.display.Javascript object>"
      ]
     },
     "metadata": {},
     "output_type": "display_data"
    }
   ],
   "source": [
    "cat_cols = [\n",
    "    \"State\",\n",
    "    \"BankState\",\n",
    "    \"twoDigNAICS\",\n",
    "]\n",
    "\n",
    "ordinal_cols = [\n",
    "    \"job_category\",\n",
    "    \"retained_category\",\n",
    "    \"bank_size\",\n",
    "]\n",
    "\n",
    "num_cols = [\n",
    "    # \"ApprovalFY\",\n",
    "    \"NoEmp\",\n",
    "    \"DisbursementGross\",\n",
    "    \"Term_years\",  # untapped potential here\n",
    "    \"Disbr_year\",  # may want to do some grouping by or transformation\n",
    "]\n",
    "\n",
    "bin_cols = [\"NewExist\", \"is_franchise\", \"bank_out_of_state\", \"sba_pre_approv\"]\n",
    "\n",
    "other_cols = [\n",
    "    \"Disbr_Month_sin\",\n",
    "    \"Disbr_Month_cos\",\n",
    "    \"Appv_Month_sin\",\n",
    "    \"Appv_Month_cos\",\n",
    "]  # not used, just documenting all cols\n",
    "\n",
    "# information that won't exist until a decision is made by the SBA\n",
    "sba_cols = [\n",
    "    \"Appv_Month_sin\",\n",
    "    \"Appv_Month_cos\",\n",
    "    \"sba_pre_approv\",\n",
    "    \"percent_SBA\",\n",
    "    \"ApprovalFY\",\n",
    "]  # turn off for loans\n",
    "\n",
    "# impute_cols = [\n",
    "#     \"RevLineCr\",\n",
    "#     \"LowDoc\",\n",
    "#     \"UrbanRural_cleaned\",\n",
    "# ]\n",
    "\n",
    "# dropping na's until the imputer is working\n",
    "loans = loans.dropna()\n",
    "# loans2 = loans2.dropna()"
   ]
  },
  {
   "cell_type": "code",
   "execution_count": 9,
   "metadata": {},
   "outputs": [
    {
     "name": "stdout",
     "output_type": "stream",
     "text": [
      "<class 'pandas.core.frame.DataFrame'>\n",
      "Int64Index: 510160 entries, 0 to 89019\n",
      "Data columns (total 24 columns):\n",
      " #   Column              Non-Null Count   Dtype  \n",
      "---  ------              --------------   -----  \n",
      " 0   State               510160 non-null  object \n",
      " 1   BankState           510160 non-null  object \n",
      " 2   ApprovalFY          510160 non-null  int64  \n",
      " 3   NoEmp               510160 non-null  int64  \n",
      " 4   NewExist            510160 non-null  int64  \n",
      " 5   RevLineCr           510160 non-null  float64\n",
      " 6   LowDoc              510160 non-null  float64\n",
      " 7   DisbursementGross   510160 non-null  float64\n",
      " 8   MIS_Status          510160 non-null  int64  \n",
      " 9   twoDigNAICS         510160 non-null  int64  \n",
      " 10  is_franchise        510160 non-null  float64\n",
      " 11  bank_out_of_state   510160 non-null  int64  \n",
      " 12  Term_years          510160 non-null  float64\n",
      " 13  job_category        510160 non-null  float64\n",
      " 14  retained_category   510160 non-null  float64\n",
      " 15  UrbanRural_cleaned  510160 non-null  float64\n",
      " 16  Disbr_year          510160 non-null  int64  \n",
      " 17  Disbr_Month_sin     510160 non-null  float64\n",
      " 18  Disbr_Month_cos     510160 non-null  float64\n",
      " 19  sba_pre_approv      510160 non-null  float64\n",
      " 20  percent_SBA         510160 non-null  float64\n",
      " 21  bank_size           510160 non-null  float64\n",
      " 22  Appv_Month_sin      510160 non-null  float64\n",
      " 23  Appv_Month_cos      510160 non-null  float64\n",
      "dtypes: float64(15), int64(7), object(2)\n",
      "memory usage: 97.3+ MB\n"
     ]
    },
    {
     "data": {
      "application/javascript": [
       "\n",
       "            setTimeout(function() {\n",
       "                var nbb_cell_id = 9;\n",
       "                var nbb_unformatted_code = \"loans.compute().info()\";\n",
       "                var nbb_formatted_code = \"loans.compute().info()\";\n",
       "                var nbb_cells = Jupyter.notebook.get_cells();\n",
       "                for (var i = 0; i < nbb_cells.length; ++i) {\n",
       "                    if (nbb_cells[i].input_prompt_number == nbb_cell_id) {\n",
       "                        if (nbb_cells[i].get_text() == nbb_unformatted_code) {\n",
       "                             nbb_cells[i].set_text(nbb_formatted_code);\n",
       "                        }\n",
       "                        break;\n",
       "                    }\n",
       "                }\n",
       "            }, 500);\n",
       "            "
      ],
      "text/plain": [
       "<IPython.core.display.Javascript object>"
      ]
     },
     "metadata": {},
     "output_type": "display_data"
    }
   ],
   "source": [
    "loans.compute().info()"
   ]
  },
  {
   "cell_type": "code",
   "execution_count": 10,
   "metadata": {},
   "outputs": [
    {
     "data": {
      "text/plain": [
       "Dask Series Structure:\n",
       "npartitions=2\n",
       "    int64\n",
       "      ...\n",
       "      ...\n",
       "Name: MIS_Status, dtype: int64\n",
       "Dask Name: getitem, 2 tasks"
      ]
     },
     "execution_count": 10,
     "metadata": {},
     "output_type": "execute_result"
    },
    {
     "data": {
      "application/javascript": [
       "\n",
       "            setTimeout(function() {\n",
       "                var nbb_cell_id = 10;\n",
       "                var nbb_unformatted_code = \"X = loans.drop(columns=\\\"MIS_Status\\\")\\ny = loans[\\\"MIS_Status\\\"]\\n\\nX.persist()\\ny.persist()\";\n",
       "                var nbb_formatted_code = \"X = loans.drop(columns=\\\"MIS_Status\\\")\\ny = loans[\\\"MIS_Status\\\"]\\n\\nX.persist()\\ny.persist()\";\n",
       "                var nbb_cells = Jupyter.notebook.get_cells();\n",
       "                for (var i = 0; i < nbb_cells.length; ++i) {\n",
       "                    if (nbb_cells[i].input_prompt_number == nbb_cell_id) {\n",
       "                        if (nbb_cells[i].get_text() == nbb_unformatted_code) {\n",
       "                             nbb_cells[i].set_text(nbb_formatted_code);\n",
       "                        }\n",
       "                        break;\n",
       "                    }\n",
       "                }\n",
       "            }, 500);\n",
       "            "
      ],
      "text/plain": [
       "<IPython.core.display.Javascript object>"
      ]
     },
     "metadata": {},
     "output_type": "display_data"
    }
   ],
   "source": [
    "X = loans.drop(columns=\"MIS_Status\")\n",
    "y = loans[\"MIS_Status\"]\n",
    "\n",
    "X.persist()\n",
    "y.persist()"
   ]
  },
  {
   "cell_type": "code",
   "execution_count": 11,
   "metadata": {},
   "outputs": [
    {
     "data": {
      "text/plain": [
       "2"
      ]
     },
     "execution_count": 11,
     "metadata": {},
     "output_type": "execute_result"
    },
    {
     "data": {
      "application/javascript": [
       "\n",
       "            setTimeout(function() {\n",
       "                var nbb_cell_id = 11;\n",
       "                var nbb_unformatted_code = \"X.npartitions\";\n",
       "                var nbb_formatted_code = \"X.npartitions\";\n",
       "                var nbb_cells = Jupyter.notebook.get_cells();\n",
       "                for (var i = 0; i < nbb_cells.length; ++i) {\n",
       "                    if (nbb_cells[i].input_prompt_number == nbb_cell_id) {\n",
       "                        if (nbb_cells[i].get_text() == nbb_unformatted_code) {\n",
       "                             nbb_cells[i].set_text(nbb_formatted_code);\n",
       "                        }\n",
       "                        break;\n",
       "                    }\n",
       "                }\n",
       "            }, 500);\n",
       "            "
      ],
      "text/plain": [
       "<IPython.core.display.Javascript object>"
      ]
     },
     "metadata": {},
     "output_type": "display_data"
    }
   ],
   "source": [
    "X.npartitions"
   ]
  },
  {
   "cell_type": "code",
   "execution_count": 12,
   "metadata": {},
   "outputs": [
    {
     "data": {
      "text/plain": [
       "2"
      ]
     },
     "execution_count": 12,
     "metadata": {},
     "output_type": "execute_result"
    },
    {
     "data": {
      "application/javascript": [
       "\n",
       "            setTimeout(function() {\n",
       "                var nbb_cell_id = 12;\n",
       "                var nbb_unformatted_code = \"y.npartitions\";\n",
       "                var nbb_formatted_code = \"y.npartitions\";\n",
       "                var nbb_cells = Jupyter.notebook.get_cells();\n",
       "                for (var i = 0; i < nbb_cells.length; ++i) {\n",
       "                    if (nbb_cells[i].input_prompt_number == nbb_cell_id) {\n",
       "                        if (nbb_cells[i].get_text() == nbb_unformatted_code) {\n",
       "                             nbb_cells[i].set_text(nbb_formatted_code);\n",
       "                        }\n",
       "                        break;\n",
       "                    }\n",
       "                }\n",
       "            }, 500);\n",
       "            "
      ],
      "text/plain": [
       "<IPython.core.display.Javascript object>"
      ]
     },
     "metadata": {},
     "output_type": "display_data"
    }
   ],
   "source": [
    "y.npartitions"
   ]
  },
  {
   "cell_type": "code",
   "execution_count": 13,
   "metadata": {},
   "outputs": [
    {
     "data": {
      "text/plain": [
       "State                 0\n",
       "BankState             0\n",
       "ApprovalFY            0\n",
       "NoEmp                 0\n",
       "NewExist              0\n",
       "RevLineCr             0\n",
       "LowDoc                0\n",
       "DisbursementGross     0\n",
       "twoDigNAICS           0\n",
       "is_franchise          0\n",
       "bank_out_of_state     0\n",
       "Term_years            0\n",
       "job_category          0\n",
       "retained_category     0\n",
       "UrbanRural_cleaned    0\n",
       "Disbr_year            0\n",
       "Disbr_Month_sin       0\n",
       "Disbr_Month_cos       0\n",
       "sba_pre_approv        0\n",
       "percent_SBA           0\n",
       "bank_size             0\n",
       "Appv_Month_sin        0\n",
       "Appv_Month_cos        0\n",
       "dtype: int64"
      ]
     },
     "execution_count": 13,
     "metadata": {},
     "output_type": "execute_result"
    },
    {
     "data": {
      "application/javascript": [
       "\n",
       "            setTimeout(function() {\n",
       "                var nbb_cell_id = 13;\n",
       "                var nbb_unformatted_code = \"X.isna().sum().compute()\";\n",
       "                var nbb_formatted_code = \"X.isna().sum().compute()\";\n",
       "                var nbb_cells = Jupyter.notebook.get_cells();\n",
       "                for (var i = 0; i < nbb_cells.length; ++i) {\n",
       "                    if (nbb_cells[i].input_prompt_number == nbb_cell_id) {\n",
       "                        if (nbb_cells[i].get_text() == nbb_unformatted_code) {\n",
       "                             nbb_cells[i].set_text(nbb_formatted_code);\n",
       "                        }\n",
       "                        break;\n",
       "                    }\n",
       "                }\n",
       "            }, 500);\n",
       "            "
      ],
      "text/plain": [
       "<IPython.core.display.Javascript object>"
      ]
     },
     "metadata": {},
     "output_type": "display_data"
    }
   ],
   "source": [
    "X.isna().sum().compute()"
   ]
  },
  {
   "cell_type": "code",
   "execution_count": null,
   "metadata": {},
   "outputs": [],
   "source": []
  },
  {
   "cell_type": "code",
   "execution_count": 14,
   "metadata": {},
   "outputs": [
    {
     "data": {
      "application/javascript": [
       "\n",
       "            setTimeout(function() {\n",
       "                var nbb_cell_id = 14;\n",
       "                var nbb_unformatted_code = \"X_cols = X.select_dtypes(include=\\\"number\\\").columns\";\n",
       "                var nbb_formatted_code = \"X_cols = X.select_dtypes(include=\\\"number\\\").columns\";\n",
       "                var nbb_cells = Jupyter.notebook.get_cells();\n",
       "                for (var i = 0; i < nbb_cells.length; ++i) {\n",
       "                    if (nbb_cells[i].input_prompt_number == nbb_cell_id) {\n",
       "                        if (nbb_cells[i].get_text() == nbb_unformatted_code) {\n",
       "                             nbb_cells[i].set_text(nbb_formatted_code);\n",
       "                        }\n",
       "                        break;\n",
       "                    }\n",
       "                }\n",
       "            }, 500);\n",
       "            "
      ],
      "text/plain": [
       "<IPython.core.display.Javascript object>"
      ]
     },
     "metadata": {},
     "output_type": "display_data"
    }
   ],
   "source": [
    "X_cols = X.select_dtypes(include=\"number\").columns"
   ]
  },
  {
   "cell_type": "code",
   "execution_count": 15,
   "metadata": {},
   "outputs": [
    {
     "data": {
      "text/plain": [
       "Index(['const', 'ApprovalFY', 'NoEmp', 'NewExist', 'RevLineCr', 'LowDoc',\n",
       "       'DisbursementGross', 'twoDigNAICS', 'is_franchise', 'bank_out_of_state',\n",
       "       'Term_years', 'job_category', 'retained_category', 'UrbanRural_cleaned',\n",
       "       'Disbr_year', 'Disbr_Month_sin', 'Disbr_Month_cos', 'sba_pre_approv',\n",
       "       'percent_SBA', 'bank_size', 'Appv_Month_sin', 'Appv_Month_cos'],\n",
       "      dtype='object')"
      ]
     },
     "execution_count": 15,
     "metadata": {},
     "output_type": "execute_result"
    },
    {
     "data": {
      "application/javascript": [
       "\n",
       "            setTimeout(function() {\n",
       "                var nbb_cell_id = 15;\n",
       "                var nbb_unformatted_code = \"X_cols.insert(0, \\\"const\\\")\";\n",
       "                var nbb_formatted_code = \"X_cols.insert(0, \\\"const\\\")\";\n",
       "                var nbb_cells = Jupyter.notebook.get_cells();\n",
       "                for (var i = 0; i < nbb_cells.length; ++i) {\n",
       "                    if (nbb_cells[i].input_prompt_number == nbb_cell_id) {\n",
       "                        if (nbb_cells[i].get_text() == nbb_unformatted_code) {\n",
       "                             nbb_cells[i].set_text(nbb_formatted_code);\n",
       "                        }\n",
       "                        break;\n",
       "                    }\n",
       "                }\n",
       "            }, 500);\n",
       "            "
      ],
      "text/plain": [
       "<IPython.core.display.Javascript object>"
      ]
     },
     "metadata": {},
     "output_type": "display_data"
    }
   ],
   "source": [
    "X_cols.insert(0, \"const\")"
   ]
  },
  {
   "cell_type": "code",
   "execution_count": 16,
   "metadata": {},
   "outputs": [
    {
     "data": {
      "text/plain": [
       "Index(['ApprovalFY', 'NoEmp', 'NewExist', 'RevLineCr', 'LowDoc',\n",
       "       'DisbursementGross', 'twoDigNAICS', 'is_franchise', 'bank_out_of_state',\n",
       "       'Term_years', 'job_category', 'retained_category', 'UrbanRural_cleaned',\n",
       "       'Disbr_year', 'Disbr_Month_sin', 'Disbr_Month_cos', 'sba_pre_approv',\n",
       "       'percent_SBA', 'bank_size', 'Appv_Month_sin', 'Appv_Month_cos'],\n",
       "      dtype='object')"
      ]
     },
     "execution_count": 16,
     "metadata": {},
     "output_type": "execute_result"
    },
    {
     "data": {
      "application/javascript": [
       "\n",
       "            setTimeout(function() {\n",
       "                var nbb_cell_id = 16;\n",
       "                var nbb_unformatted_code = \"X_cols\";\n",
       "                var nbb_formatted_code = \"X_cols\";\n",
       "                var nbb_cells = Jupyter.notebook.get_cells();\n",
       "                for (var i = 0; i < nbb_cells.length; ++i) {\n",
       "                    if (nbb_cells[i].input_prompt_number == nbb_cell_id) {\n",
       "                        if (nbb_cells[i].get_text() == nbb_unformatted_code) {\n",
       "                             nbb_cells[i].set_text(nbb_formatted_code);\n",
       "                        }\n",
       "                        break;\n",
       "                    }\n",
       "                }\n",
       "            }, 500);\n",
       "            "
      ],
      "text/plain": [
       "<IPython.core.display.Javascript object>"
      ]
     },
     "metadata": {},
     "output_type": "display_data"
    }
   ],
   "source": [
    "X_cols"
   ]
  },
  {
   "cell_type": "code",
   "execution_count": 17,
   "metadata": {},
   "outputs": [
    {
     "data": {
      "text/plain": [
       "(510160, 21)"
      ]
     },
     "execution_count": 17,
     "metadata": {},
     "output_type": "execute_result"
    },
    {
     "data": {
      "application/javascript": [
       "\n",
       "            setTimeout(function() {\n",
       "                var nbb_cell_id = 17;\n",
       "                var nbb_unformatted_code = \"X.select_dtypes(include=\\\"number\\\").compute().shape\";\n",
       "                var nbb_formatted_code = \"X.select_dtypes(include=\\\"number\\\").compute().shape\";\n",
       "                var nbb_cells = Jupyter.notebook.get_cells();\n",
       "                for (var i = 0; i < nbb_cells.length; ++i) {\n",
       "                    if (nbb_cells[i].input_prompt_number == nbb_cell_id) {\n",
       "                        if (nbb_cells[i].get_text() == nbb_unformatted_code) {\n",
       "                             nbb_cells[i].set_text(nbb_formatted_code);\n",
       "                        }\n",
       "                        break;\n",
       "                    }\n",
       "                }\n",
       "            }, 500);\n",
       "            "
      ],
      "text/plain": [
       "<IPython.core.display.Javascript object>"
      ]
     },
     "metadata": {},
     "output_type": "display_data"
    }
   ],
   "source": [
    "X.select_dtypes(include=\"number\").compute().shape"
   ]
  },
  {
   "cell_type": "code",
   "execution_count": 18,
   "metadata": {},
   "outputs": [
    {
     "data": {
      "text/plain": [
       "21"
      ]
     },
     "execution_count": 18,
     "metadata": {},
     "output_type": "execute_result"
    },
    {
     "data": {
      "application/javascript": [
       "\n",
       "            setTimeout(function() {\n",
       "                var nbb_cell_id = 18;\n",
       "                var nbb_unformatted_code = \"len(X.select_dtypes(include=\\\"number\\\").columns)\";\n",
       "                var nbb_formatted_code = \"len(X.select_dtypes(include=\\\"number\\\").columns)\";\n",
       "                var nbb_cells = Jupyter.notebook.get_cells();\n",
       "                for (var i = 0; i < nbb_cells.length; ++i) {\n",
       "                    if (nbb_cells[i].input_prompt_number == nbb_cell_id) {\n",
       "                        if (nbb_cells[i].get_text() == nbb_unformatted_code) {\n",
       "                             nbb_cells[i].set_text(nbb_formatted_code);\n",
       "                        }\n",
       "                        break;\n",
       "                    }\n",
       "                }\n",
       "            }, 500);\n",
       "            "
      ],
      "text/plain": [
       "<IPython.core.display.Javascript object>"
      ]
     },
     "metadata": {},
     "output_type": "display_data"
    }
   ],
   "source": [
    "len(X.select_dtypes(include=\"number\").columns)"
   ]
  },
  {
   "cell_type": "code",
   "execution_count": null,
   "metadata": {},
   "outputs": [],
   "source": []
  },
  {
   "cell_type": "code",
   "execution_count": 19,
   "metadata": {},
   "outputs": [
    {
     "name": "stdout",
     "output_type": "stream",
     "text": [
      "VIF results\n",
      "-------------------------------\n",
      "Const                 814042.869130\n",
      "ApprovalFY                23.896407\n",
      "NoEmp                      1.030941\n",
      "NewExist                   1.116227\n",
      "RevLineCr                  1.642167\n",
      "LowDoc                     1.464350\n",
      "DisbursementGross          1.440001\n",
      "twoDigNAICS                1.062891\n",
      "is_franchise               1.077412\n",
      "bank_out_of_state          1.552200\n",
      "Term_years                 1.727010\n",
      "job_category               1.142919\n",
      "retained_category          1.301271\n",
      "UrbanRural_cleaned         1.085589\n",
      "Disbr_year                23.424435\n",
      "Disbr_Month_sin            2.122974\n",
      "Disbr_Month_cos            1.928162\n",
      "sba_pre_approv             1.137421\n",
      "percent_SBA                2.269749\n",
      "bank_size                  1.761511\n",
      "Appv_Month_sin             1.954191\n",
      "Appv_Month_cos             2.109402\n",
      "dtype: float64\n",
      "-------------------------------\n",
      "\n",
      "Wall time: 18.7 s\n"
     ]
    },
    {
     "data": {
      "application/javascript": [
       "\n",
       "            setTimeout(function() {\n",
       "                var nbb_cell_id = 19;\n",
       "                var nbb_unformatted_code = \"# had to add passing the columns to vif function\\n# dask uses arrays and arrays don't have col names!\\n# likewise had to add 'const' to the list in the f(x)\\n\\n%time print_vif(X.select_dtypes(include=\\\"number\\\"), X.select_dtypes(include=\\\"number\\\").columns)\";\n",
       "                var nbb_formatted_code = \"# had to add passing the columns to vif function\\n# dask uses arrays and arrays don't have col names!\\n# likewise had to add 'const' to the list in the f(x)\\n\\n%time print_vif(X.select_dtypes(include=\\\"number\\\"), X.select_dtypes(include=\\\"number\\\").columns)\";\n",
       "                var nbb_cells = Jupyter.notebook.get_cells();\n",
       "                for (var i = 0; i < nbb_cells.length; ++i) {\n",
       "                    if (nbb_cells[i].input_prompt_number == nbb_cell_id) {\n",
       "                        if (nbb_cells[i].get_text() == nbb_unformatted_code) {\n",
       "                             nbb_cells[i].set_text(nbb_formatted_code);\n",
       "                        }\n",
       "                        break;\n",
       "                    }\n",
       "                }\n",
       "            }, 500);\n",
       "            "
      ],
      "text/plain": [
       "<IPython.core.display.Javascript object>"
      ]
     },
     "metadata": {},
     "output_type": "display_data"
    }
   ],
   "source": [
    "# had to add passing the columns to vif function\n",
    "# dask uses arrays and arrays don't have col names!\n",
    "# likewise had to add 'const' to the list in the f(x)\n",
    "\n",
    "%time print_vif(X.select_dtypes(include=\"number\"), X.select_dtypes(include=\"number\").columns)"
   ]
  },
  {
   "cell_type": "code",
   "execution_count": 20,
   "metadata": {},
   "outputs": [
    {
     "data": {
      "application/javascript": [
       "\n",
       "            setTimeout(function() {\n",
       "                var nbb_cell_id = 20;\n",
       "                var nbb_unformatted_code = \"# remove ApprovalFY. sba_pre_approv contains some of the same info, Disbr_year will also cover the loss\\nX = X.drop(columns=\\\"ApprovalFY\\\")\";\n",
       "                var nbb_formatted_code = \"# remove ApprovalFY. sba_pre_approv contains some of the same info, Disbr_year will also cover the loss\\nX = X.drop(columns=\\\"ApprovalFY\\\")\";\n",
       "                var nbb_cells = Jupyter.notebook.get_cells();\n",
       "                for (var i = 0; i < nbb_cells.length; ++i) {\n",
       "                    if (nbb_cells[i].input_prompt_number == nbb_cell_id) {\n",
       "                        if (nbb_cells[i].get_text() == nbb_unformatted_code) {\n",
       "                             nbb_cells[i].set_text(nbb_formatted_code);\n",
       "                        }\n",
       "                        break;\n",
       "                    }\n",
       "                }\n",
       "            }, 500);\n",
       "            "
      ],
      "text/plain": [
       "<IPython.core.display.Javascript object>"
      ]
     },
     "metadata": {},
     "output_type": "display_data"
    }
   ],
   "source": [
    "# remove ApprovalFY. sba_pre_approv contains some of the same info, Disbr_year will also cover the loss\n",
    "X = X.drop(columns=\"ApprovalFY\")\n"
   ]
  },
  {
   "cell_type": "code",
   "execution_count": 21,
   "metadata": {},
   "outputs": [
    {
     "name": "stdout",
     "output_type": "stream",
     "text": [
      "VIF results\n",
      "-------------------------------\n",
      "Const                 796975.574874\n",
      "NoEmp                      1.030778\n",
      "NewExist                   1.115887\n",
      "RevLineCr                  1.618617\n",
      "LowDoc                     1.463971\n",
      "DisbursementGross          1.439882\n",
      "twoDigNAICS                1.062750\n",
      "is_franchise               1.076763\n",
      "bank_out_of_state          1.550228\n",
      "Term_years                 1.706210\n",
      "job_category               1.140951\n",
      "retained_category          1.297405\n",
      "UrbanRural_cleaned         1.085436\n",
      "Disbr_year                 1.281341\n",
      "Disbr_Month_sin            1.942611\n",
      "Disbr_Month_cos            1.907323\n",
      "sba_pre_approv             1.120049\n",
      "percent_SBA                2.264214\n",
      "bank_size                  1.761370\n",
      "Appv_Month_sin             1.945031\n",
      "Appv_Month_cos             1.895682\n",
      "dtype: float64\n",
      "-------------------------------\n",
      "\n",
      "Wall time: 14.7 s\n"
     ]
    },
    {
     "data": {
      "application/javascript": [
       "\n",
       "            setTimeout(function() {\n",
       "                var nbb_cell_id = 21;\n",
       "                var nbb_unformatted_code = \"%%time\\n#with joblib.parallel_backend(\\\"dask\\\"):\\nprint_vif(\\n        X.select_dtypes(include=\\\"number\\\"), X.select_dtypes(include=\\\"number\\\").columns\\n    )\\n    \\n# using joblib doesn't seem to make this operation much faster\";\n",
       "                var nbb_formatted_code = \"%%time\\n#with joblib.parallel_backend(\\\"dask\\\"):\\nprint_vif(\\n        X.select_dtypes(include=\\\"number\\\"), X.select_dtypes(include=\\\"number\\\").columns\\n    )\\n    \\n# using joblib doesn't seem to make this operation much faster\";\n",
       "                var nbb_cells = Jupyter.notebook.get_cells();\n",
       "                for (var i = 0; i < nbb_cells.length; ++i) {\n",
       "                    if (nbb_cells[i].input_prompt_number == nbb_cell_id) {\n",
       "                        if (nbb_cells[i].get_text() == nbb_unformatted_code) {\n",
       "                             nbb_cells[i].set_text(nbb_formatted_code);\n",
       "                        }\n",
       "                        break;\n",
       "                    }\n",
       "                }\n",
       "            }, 500);\n",
       "            "
      ],
      "text/plain": [
       "<IPython.core.display.Javascript object>"
      ]
     },
     "metadata": {},
     "output_type": "display_data"
    }
   ],
   "source": [
    "%%time\n",
    "#with joblib.parallel_backend(\"dask\"):\n",
    "print_vif(\n",
    "        X.select_dtypes(include=\"number\"), X.select_dtypes(include=\"number\").columns\n",
    "    )\n",
    "    \n",
    "# using joblib doesn't seem to make this operation much faster"
   ]
  },
  {
   "cell_type": "code",
   "execution_count": 22,
   "metadata": {},
   "outputs": [
    {
     "data": {
      "text/plain": [
       "Dask Series Structure:\n",
       "npartitions=1\n",
       "Appv_Month_cos    int64\n",
       "twoDigNAICS         ...\n",
       "dtype: int64\n",
       "Dask Name: dataframe-sum-agg, 13 tasks"
      ]
     },
     "execution_count": 22,
     "metadata": {},
     "output_type": "execute_result"
    },
    {
     "data": {
      "application/javascript": [
       "\n",
       "            setTimeout(function() {\n",
       "                var nbb_cell_id = 22;\n",
       "                var nbb_unformatted_code = \"X.isna().sum()\";\n",
       "                var nbb_formatted_code = \"X.isna().sum()\";\n",
       "                var nbb_cells = Jupyter.notebook.get_cells();\n",
       "                for (var i = 0; i < nbb_cells.length; ++i) {\n",
       "                    if (nbb_cells[i].input_prompt_number == nbb_cell_id) {\n",
       "                        if (nbb_cells[i].get_text() == nbb_unformatted_code) {\n",
       "                             nbb_cells[i].set_text(nbb_formatted_code);\n",
       "                        }\n",
       "                        break;\n",
       "                    }\n",
       "                }\n",
       "            }, 500);\n",
       "            "
      ],
      "text/plain": [
       "<IPython.core.display.Javascript object>"
      ]
     },
     "metadata": {},
     "output_type": "display_data"
    }
   ],
   "source": [
    "X.isna().sum()"
   ]
  },
  {
   "cell_type": "code",
   "execution_count": 23,
   "metadata": {
    "scrolled": true
   },
   "outputs": [
    {
     "data": {
      "application/javascript": [
       "\n",
       "            setTimeout(function() {\n",
       "                var nbb_cell_id = 23;\n",
       "                var nbb_unformatted_code = \"#!pip install dask_ml --user\";\n",
       "                var nbb_formatted_code = \"#!pip install dask_ml --user\";\n",
       "                var nbb_cells = Jupyter.notebook.get_cells();\n",
       "                for (var i = 0; i < nbb_cells.length; ++i) {\n",
       "                    if (nbb_cells[i].input_prompt_number == nbb_cell_id) {\n",
       "                        if (nbb_cells[i].get_text() == nbb_unformatted_code) {\n",
       "                             nbb_cells[i].set_text(nbb_formatted_code);\n",
       "                        }\n",
       "                        break;\n",
       "                    }\n",
       "                }\n",
       "            }, 500);\n",
       "            "
      ],
      "text/plain": [
       "<IPython.core.display.Javascript object>"
      ]
     },
     "metadata": {},
     "output_type": "display_data"
    }
   ],
   "source": [
    "#!pip install dask_ml --user"
   ]
  },
  {
   "cell_type": "code",
   "execution_count": 24,
   "metadata": {},
   "outputs": [
    {
     "data": {
      "application/javascript": [
       "\n",
       "            setTimeout(function() {\n",
       "                var nbb_cell_id = 24;\n",
       "                var nbb_unformatted_code = \"from dask_ml.model_selection import train_test_split as dask_tts\";\n",
       "                var nbb_formatted_code = \"from dask_ml.model_selection import train_test_split as dask_tts\";\n",
       "                var nbb_cells = Jupyter.notebook.get_cells();\n",
       "                for (var i = 0; i < nbb_cells.length; ++i) {\n",
       "                    if (nbb_cells[i].input_prompt_number == nbb_cell_id) {\n",
       "                        if (nbb_cells[i].get_text() == nbb_unformatted_code) {\n",
       "                             nbb_cells[i].set_text(nbb_formatted_code);\n",
       "                        }\n",
       "                        break;\n",
       "                    }\n",
       "                }\n",
       "            }, 500);\n",
       "            "
      ],
      "text/plain": [
       "<IPython.core.display.Javascript object>"
      ]
     },
     "metadata": {},
     "output_type": "display_data"
    }
   ],
   "source": [
    "from dask_ml.model_selection import train_test_split as dask_tts"
   ]
  },
  {
   "cell_type": "code",
   "execution_count": 25,
   "metadata": {},
   "outputs": [
    {
     "data": {
      "text/plain": [
       "Dask Series Structure:\n",
       "npartitions=2\n",
       "    int64\n",
       "      ...\n",
       "      ...\n",
       "Name: MIS_Status, dtype: int64\n",
       "Dask Name: split, 2 tasks"
      ]
     },
     "execution_count": 25,
     "metadata": {},
     "output_type": "execute_result"
    },
    {
     "data": {
      "application/javascript": [
       "\n",
       "            setTimeout(function() {\n",
       "                var nbb_cell_id = 25;\n",
       "                var nbb_unformatted_code = \"# X_train, X_test, y_train, y_test = train_test_split(X, y, test_size=0.25)\\n\\nX_train, X_test, y_train, y_test = dask_tts(X, y, test_size=0.25)\\n\\nX_train.persist()\\ny_train.persist()\";\n",
       "                var nbb_formatted_code = \"# X_train, X_test, y_train, y_test = train_test_split(X, y, test_size=0.25)\\n\\nX_train, X_test, y_train, y_test = dask_tts(X, y, test_size=0.25)\\n\\nX_train.persist()\\ny_train.persist()\";\n",
       "                var nbb_cells = Jupyter.notebook.get_cells();\n",
       "                for (var i = 0; i < nbb_cells.length; ++i) {\n",
       "                    if (nbb_cells[i].input_prompt_number == nbb_cell_id) {\n",
       "                        if (nbb_cells[i].get_text() == nbb_unformatted_code) {\n",
       "                             nbb_cells[i].set_text(nbb_formatted_code);\n",
       "                        }\n",
       "                        break;\n",
       "                    }\n",
       "                }\n",
       "            }, 500);\n",
       "            "
      ],
      "text/plain": [
       "<IPython.core.display.Javascript object>"
      ]
     },
     "metadata": {},
     "output_type": "display_data"
    }
   ],
   "source": [
    "# X_train, X_test, y_train, y_test = train_test_split(X, y, test_size=0.25)\n",
    "\n",
    "X_train, X_test, y_train, y_test = dask_tts(X, y, test_size=0.25)\n",
    "\n",
    "X_train.persist()\n",
    "y_train.persist()"
   ]
  },
  {
   "cell_type": "code",
   "execution_count": 26,
   "metadata": {},
   "outputs": [
    {
     "data": {
      "text/plain": [
       "2"
      ]
     },
     "execution_count": 26,
     "metadata": {},
     "output_type": "execute_result"
    },
    {
     "data": {
      "application/javascript": [
       "\n",
       "            setTimeout(function() {\n",
       "                var nbb_cell_id = 26;\n",
       "                var nbb_unformatted_code = \"X_train.npartitions\";\n",
       "                var nbb_formatted_code = \"X_train.npartitions\";\n",
       "                var nbb_cells = Jupyter.notebook.get_cells();\n",
       "                for (var i = 0; i < nbb_cells.length; ++i) {\n",
       "                    if (nbb_cells[i].input_prompt_number == nbb_cell_id) {\n",
       "                        if (nbb_cells[i].get_text() == nbb_unformatted_code) {\n",
       "                             nbb_cells[i].set_text(nbb_formatted_code);\n",
       "                        }\n",
       "                        break;\n",
       "                    }\n",
       "                }\n",
       "            }, 500);\n",
       "            "
      ],
      "text/plain": [
       "<IPython.core.display.Javascript object>"
      ]
     },
     "metadata": {},
     "output_type": "display_data"
    }
   ],
   "source": [
    "X_train.npartitions"
   ]
  },
  {
   "cell_type": "code",
   "execution_count": 27,
   "metadata": {},
   "outputs": [
    {
     "data": {
      "text/plain": [
       "2"
      ]
     },
     "execution_count": 27,
     "metadata": {},
     "output_type": "execute_result"
    },
    {
     "data": {
      "application/javascript": [
       "\n",
       "            setTimeout(function() {\n",
       "                var nbb_cell_id = 27;\n",
       "                var nbb_unformatted_code = \"y_train.npartitions\";\n",
       "                var nbb_formatted_code = \"y_train.npartitions\";\n",
       "                var nbb_cells = Jupyter.notebook.get_cells();\n",
       "                for (var i = 0; i < nbb_cells.length; ++i) {\n",
       "                    if (nbb_cells[i].input_prompt_number == nbb_cell_id) {\n",
       "                        if (nbb_cells[i].get_text() == nbb_unformatted_code) {\n",
       "                             nbb_cells[i].set_text(nbb_formatted_code);\n",
       "                        }\n",
       "                        break;\n",
       "                    }\n",
       "                }\n",
       "            }, 500);\n",
       "            "
      ],
      "text/plain": [
       "<IPython.core.display.Javascript object>"
      ]
     },
     "metadata": {},
     "output_type": "display_data"
    }
   ],
   "source": [
    "y_train.npartitions"
   ]
  },
  {
   "cell_type": "code",
   "execution_count": 28,
   "metadata": {},
   "outputs": [
    {
     "data": {
      "application/javascript": [
       "\n",
       "            setTimeout(function() {\n",
       "                var nbb_cell_id = 28;\n",
       "                var nbb_unformatted_code = \"from dask_ml.preprocessing import LabelEncoder, MinMaxScaler, OneHotEncoder\\nfrom dask_ml.compose import ColumnTransformer as dask_CT\";\n",
       "                var nbb_formatted_code = \"from dask_ml.preprocessing import LabelEncoder, MinMaxScaler, OneHotEncoder\\nfrom dask_ml.compose import ColumnTransformer as dask_CT\";\n",
       "                var nbb_cells = Jupyter.notebook.get_cells();\n",
       "                for (var i = 0; i < nbb_cells.length; ++i) {\n",
       "                    if (nbb_cells[i].input_prompt_number == nbb_cell_id) {\n",
       "                        if (nbb_cells[i].get_text() == nbb_unformatted_code) {\n",
       "                             nbb_cells[i].set_text(nbb_formatted_code);\n",
       "                        }\n",
       "                        break;\n",
       "                    }\n",
       "                }\n",
       "            }, 500);\n",
       "            "
      ],
      "text/plain": [
       "<IPython.core.display.Javascript object>"
      ]
     },
     "metadata": {},
     "output_type": "display_data"
    }
   ],
   "source": [
    "from dask_ml.preprocessing import LabelEncoder, MinMaxScaler, OneHotEncoder\n",
    "from dask_ml.compose import ColumnTransformer as dask_CT"
   ]
  },
  {
   "cell_type": "code",
   "execution_count": 31,
   "metadata": {},
   "outputs": [
    {
     "data": {
      "application/javascript": [
       "\n",
       "            setTimeout(function() {\n",
       "                var nbb_cell_id = 31;\n",
       "                var nbb_unformatted_code = \"preprocessing = ColumnTransformer(\\n    [\\n        #         (\\\"labelencode\\\", LabelEncoder(), cat_cols),\\n        #         (\\\"scale\\\", MinMaxScaler(), num_cols)\\n        (\\\"leaveOneOut\\\", LeaveOneOutEncoder(), cat_cols),\\n        (\\\"scale\\\", StandardScaler(), num_cols),  # never hurts\\n        # (\\\"knnImptute\\\", KNNImputer(n_neighbors=2), impute_cols),\\n        # (\\\"simpleImptute\\\", SimpleImputer(), impute_cols),\\n    ],\\n    remainder=\\\"passthrough\\\",\\n)\";\n",
       "                var nbb_formatted_code = \"preprocessing = ColumnTransformer(\\n    [\\n        #         (\\\"labelencode\\\", LabelEncoder(), cat_cols),\\n        #         (\\\"scale\\\", MinMaxScaler(), num_cols)\\n        (\\\"leaveOneOut\\\", LeaveOneOutEncoder(), cat_cols),\\n        (\\\"scale\\\", StandardScaler(), num_cols),  # never hurts\\n        # (\\\"knnImptute\\\", KNNImputer(n_neighbors=2), impute_cols),\\n        # (\\\"simpleImptute\\\", SimpleImputer(), impute_cols),\\n    ],\\n    remainder=\\\"passthrough\\\",\\n)\";\n",
       "                var nbb_cells = Jupyter.notebook.get_cells();\n",
       "                for (var i = 0; i < nbb_cells.length; ++i) {\n",
       "                    if (nbb_cells[i].input_prompt_number == nbb_cell_id) {\n",
       "                        if (nbb_cells[i].get_text() == nbb_unformatted_code) {\n",
       "                             nbb_cells[i].set_text(nbb_formatted_code);\n",
       "                        }\n",
       "                        break;\n",
       "                    }\n",
       "                }\n",
       "            }, 500);\n",
       "            "
      ],
      "text/plain": [
       "<IPython.core.display.Javascript object>"
      ]
     },
     "metadata": {},
     "output_type": "display_data"
    }
   ],
   "source": [
    "preprocessing = ColumnTransformer(\n",
    "    [\n",
    "        #         (\"labelencode\", LabelEncoder(), cat_cols),\n",
    "        #         (\"scale\", MinMaxScaler(), num_cols)\n",
    "        (\"leaveOneOut\", LeaveOneOutEncoder(), cat_cols),\n",
    "        (\"scale\", StandardScaler(), num_cols),  # never hurts\n",
    "        # (\"knnImptute\", KNNImputer(n_neighbors=2), impute_cols),\n",
    "        # (\"simpleImptute\", SimpleImputer(), impute_cols),\n",
    "    ],\n",
    "    remainder=\"passthrough\",\n",
    ")"
   ]
  },
  {
   "cell_type": "code",
   "execution_count": 32,
   "metadata": {},
   "outputs": [
    {
     "data": {
      "application/javascript": [
       "\n",
       "            setTimeout(function() {\n",
       "                var nbb_cell_id = 32;\n",
       "                var nbb_unformatted_code = \"import dask.array as da\\n\\nX_train_array = da.from_array(\\n    preprocessing.fit_transform(X_train.compute(), y_train.compute())\\n)\\nX_test_array = da.from_array(preprocessing.transform(X_test.compute()))\";\n",
       "                var nbb_formatted_code = \"import dask.array as da\\n\\nX_train_array = da.from_array(\\n    preprocessing.fit_transform(X_train.compute(), y_train.compute())\\n)\\nX_test_array = da.from_array(preprocessing.transform(X_test.compute()))\";\n",
       "                var nbb_cells = Jupyter.notebook.get_cells();\n",
       "                for (var i = 0; i < nbb_cells.length; ++i) {\n",
       "                    if (nbb_cells[i].input_prompt_number == nbb_cell_id) {\n",
       "                        if (nbb_cells[i].get_text() == nbb_unformatted_code) {\n",
       "                             nbb_cells[i].set_text(nbb_formatted_code);\n",
       "                        }\n",
       "                        break;\n",
       "                    }\n",
       "                }\n",
       "            }, 500);\n",
       "            "
      ],
      "text/plain": [
       "<IPython.core.display.Javascript object>"
      ]
     },
     "metadata": {},
     "output_type": "display_data"
    }
   ],
   "source": [
    "import dask.array as da\n",
    "\n",
    "X_train_array = da.from_array(\n",
    "    preprocessing.fit_transform(X_train.compute(), y_train.compute())\n",
    ")\n",
    "X_test_array = da.from_array(preprocessing.transform(X_test.compute()))"
   ]
  },
  {
   "cell_type": "code",
   "execution_count": 33,
   "metadata": {},
   "outputs": [
    {
     "data": {
      "application/javascript": [
       "\n",
       "            setTimeout(function() {\n",
       "                var nbb_cell_id = 33;\n",
       "                var nbb_unformatted_code = \"# !pip install dask-xgboost --user --quiet\";\n",
       "                var nbb_formatted_code = \"# !pip install dask-xgboost --user --quiet\";\n",
       "                var nbb_cells = Jupyter.notebook.get_cells();\n",
       "                for (var i = 0; i < nbb_cells.length; ++i) {\n",
       "                    if (nbb_cells[i].input_prompt_number == nbb_cell_id) {\n",
       "                        if (nbb_cells[i].get_text() == nbb_unformatted_code) {\n",
       "                             nbb_cells[i].set_text(nbb_formatted_code);\n",
       "                        }\n",
       "                        break;\n",
       "                    }\n",
       "                }\n",
       "            }, 500);\n",
       "            "
      ],
      "text/plain": [
       "<IPython.core.display.Javascript object>"
      ]
     },
     "metadata": {},
     "output_type": "display_data"
    }
   ],
   "source": [
    "# !pip install dask-xgboost --user --quiet"
   ]
  },
  {
   "cell_type": "code",
   "execution_count": 34,
   "metadata": {},
   "outputs": [
    {
     "data": {
      "application/javascript": [
       "\n",
       "            setTimeout(function() {\n",
       "                var nbb_cell_id = 34;\n",
       "                var nbb_unformatted_code = \"from dask_ml.xgboost import XGBRegressor as dask_XGBR\";\n",
       "                var nbb_formatted_code = \"from dask_ml.xgboost import XGBRegressor as dask_XGBR\";\n",
       "                var nbb_cells = Jupyter.notebook.get_cells();\n",
       "                for (var i = 0; i < nbb_cells.length; ++i) {\n",
       "                    if (nbb_cells[i].input_prompt_number == nbb_cell_id) {\n",
       "                        if (nbb_cells[i].get_text() == nbb_unformatted_code) {\n",
       "                             nbb_cells[i].set_text(nbb_formatted_code);\n",
       "                        }\n",
       "                        break;\n",
       "                    }\n",
       "                }\n",
       "            }, 500);\n",
       "            "
      ],
      "text/plain": [
       "<IPython.core.display.Javascript object>"
      ]
     },
     "metadata": {},
     "output_type": "display_data"
    }
   ],
   "source": [
    "from dask_ml.xgboost import XGBRegressor as dask_XGBR"
   ]
  },
  {
   "cell_type": "code",
   "execution_count": 35,
   "metadata": {},
   "outputs": [
    {
     "data": {
      "application/javascript": [
       "\n",
       "            setTimeout(function() {\n",
       "                var nbb_cell_id = 35;\n",
       "                var nbb_unformatted_code = \"import dask_xgboost\";\n",
       "                var nbb_formatted_code = \"import dask_xgboost\";\n",
       "                var nbb_cells = Jupyter.notebook.get_cells();\n",
       "                for (var i = 0; i < nbb_cells.length; ++i) {\n",
       "                    if (nbb_cells[i].input_prompt_number == nbb_cell_id) {\n",
       "                        if (nbb_cells[i].get_text() == nbb_unformatted_code) {\n",
       "                             nbb_cells[i].set_text(nbb_formatted_code);\n",
       "                        }\n",
       "                        break;\n",
       "                    }\n",
       "                }\n",
       "            }, 500);\n",
       "            "
      ],
      "text/plain": [
       "<IPython.core.display.Javascript object>"
      ]
     },
     "metadata": {},
     "output_type": "display_data"
    }
   ],
   "source": [
    "import dask_xgboost"
   ]
  },
  {
   "cell_type": "code",
   "execution_count": 36,
   "metadata": {},
   "outputs": [
    {
     "data": {
      "text/plain": [
       "'1.7.0'"
      ]
     },
     "execution_count": 36,
     "metadata": {},
     "output_type": "execute_result"
    },
    {
     "data": {
      "application/javascript": [
       "\n",
       "            setTimeout(function() {\n",
       "                var nbb_cell_id = 36;\n",
       "                var nbb_unformatted_code = \"import dask_ml\\n\\ndask_ml.__version__\";\n",
       "                var nbb_formatted_code = \"import dask_ml\\n\\ndask_ml.__version__\";\n",
       "                var nbb_cells = Jupyter.notebook.get_cells();\n",
       "                for (var i = 0; i < nbb_cells.length; ++i) {\n",
       "                    if (nbb_cells[i].input_prompt_number == nbb_cell_id) {\n",
       "                        if (nbb_cells[i].get_text() == nbb_unformatted_code) {\n",
       "                             nbb_cells[i].set_text(nbb_formatted_code);\n",
       "                        }\n",
       "                        break;\n",
       "                    }\n",
       "                }\n",
       "            }, 500);\n",
       "            "
      ],
      "text/plain": [
       "<IPython.core.display.Javascript object>"
      ]
     },
     "metadata": {},
     "output_type": "display_data"
    }
   ],
   "source": [
    "import dask_ml\n",
    "\n",
    "dask_ml.__version__"
   ]
  },
  {
   "cell_type": "code",
   "execution_count": 37,
   "metadata": {},
   "outputs": [
    {
     "data": {
      "application/javascript": [
       "\n",
       "            setTimeout(function() {\n",
       "                var nbb_cell_id = 37;\n",
       "                var nbb_unformatted_code = \"y_train_array = da.from_array(y_train.compute())\\ny_test_array = da.from_array(y_test.compute())\";\n",
       "                var nbb_formatted_code = \"y_train_array = da.from_array(y_train.compute())\\ny_test_array = da.from_array(y_test.compute())\";\n",
       "                var nbb_cells = Jupyter.notebook.get_cells();\n",
       "                for (var i = 0; i < nbb_cells.length; ++i) {\n",
       "                    if (nbb_cells[i].input_prompt_number == nbb_cell_id) {\n",
       "                        if (nbb_cells[i].get_text() == nbb_unformatted_code) {\n",
       "                             nbb_cells[i].set_text(nbb_formatted_code);\n",
       "                        }\n",
       "                        break;\n",
       "                    }\n",
       "                }\n",
       "            }, 500);\n",
       "            "
      ],
      "text/plain": [
       "<IPython.core.display.Javascript object>"
      ]
     },
     "metadata": {},
     "output_type": "display_data"
    }
   ],
   "source": [
    "y_train_array = da.from_array(y_train.compute())\n",
    "y_test_array = da.from_array(y_test.compute())"
   ]
  },
  {
   "cell_type": "code",
   "execution_count": 38,
   "metadata": {},
   "outputs": [
    {
     "data": {
      "text/plain": [
       "1"
      ]
     },
     "execution_count": 38,
     "metadata": {},
     "output_type": "execute_result"
    },
    {
     "data": {
      "application/javascript": [
       "\n",
       "            setTimeout(function() {\n",
       "                var nbb_cell_id = 38;\n",
       "                var nbb_unformatted_code = \"y_train_array.npartitions\";\n",
       "                var nbb_formatted_code = \"y_train_array.npartitions\";\n",
       "                var nbb_cells = Jupyter.notebook.get_cells();\n",
       "                for (var i = 0; i < nbb_cells.length; ++i) {\n",
       "                    if (nbb_cells[i].input_prompt_number == nbb_cell_id) {\n",
       "                        if (nbb_cells[i].get_text() == nbb_unformatted_code) {\n",
       "                             nbb_cells[i].set_text(nbb_formatted_code);\n",
       "                        }\n",
       "                        break;\n",
       "                    }\n",
       "                }\n",
       "            }, 500);\n",
       "            "
      ],
      "text/plain": [
       "<IPython.core.display.Javascript object>"
      ]
     },
     "metadata": {},
     "output_type": "display_data"
    }
   ],
   "source": [
    "y_train_array.npartitions"
   ]
  },
  {
   "cell_type": "code",
   "execution_count": 39,
   "metadata": {},
   "outputs": [
    {
     "data": {
      "text/plain": [
       "1"
      ]
     },
     "execution_count": 39,
     "metadata": {},
     "output_type": "execute_result"
    },
    {
     "data": {
      "application/javascript": [
       "\n",
       "            setTimeout(function() {\n",
       "                var nbb_cell_id = 39;\n",
       "                var nbb_unformatted_code = \"y_test_array.npartitions\";\n",
       "                var nbb_formatted_code = \"y_test_array.npartitions\";\n",
       "                var nbb_cells = Jupyter.notebook.get_cells();\n",
       "                for (var i = 0; i < nbb_cells.length; ++i) {\n",
       "                    if (nbb_cells[i].input_prompt_number == nbb_cell_id) {\n",
       "                        if (nbb_cells[i].get_text() == nbb_unformatted_code) {\n",
       "                             nbb_cells[i].set_text(nbb_formatted_code);\n",
       "                        }\n",
       "                        break;\n",
       "                    }\n",
       "                }\n",
       "            }, 500);\n",
       "            "
      ],
      "text/plain": [
       "<IPython.core.display.Javascript object>"
      ]
     },
     "metadata": {},
     "output_type": "display_data"
    }
   ],
   "source": [
    "y_test_array.npartitions"
   ]
  },
  {
   "cell_type": "markdown",
   "metadata": {},
   "source": [
    "### Gradient Boost Classifier"
   ]
  },
  {
   "cell_type": "code",
   "execution_count": 40,
   "metadata": {},
   "outputs": [
    {
     "data": {
      "application/javascript": [
       "\n",
       "            setTimeout(function() {\n",
       "                var nbb_cell_id = 40;\n",
       "                var nbb_unformatted_code = \"params = {\\n    \\\"objective\\\": \\\"binary:logistic\\\",\\n    \\\"max_depth\\\": 4,\\n    \\\"eta\\\": 0.01,\\n    \\\"subsample\\\": 0.5,\\n    \\\"min_child_weight\\\": 0.5,\\n}\";\n",
       "                var nbb_formatted_code = \"params = {\\n    \\\"objective\\\": \\\"binary:logistic\\\",\\n    \\\"max_depth\\\": 4,\\n    \\\"eta\\\": 0.01,\\n    \\\"subsample\\\": 0.5,\\n    \\\"min_child_weight\\\": 0.5,\\n}\";\n",
       "                var nbb_cells = Jupyter.notebook.get_cells();\n",
       "                for (var i = 0; i < nbb_cells.length; ++i) {\n",
       "                    if (nbb_cells[i].input_prompt_number == nbb_cell_id) {\n",
       "                        if (nbb_cells[i].get_text() == nbb_unformatted_code) {\n",
       "                             nbb_cells[i].set_text(nbb_formatted_code);\n",
       "                        }\n",
       "                        break;\n",
       "                    }\n",
       "                }\n",
       "            }, 500);\n",
       "            "
      ],
      "text/plain": [
       "<IPython.core.display.Javascript object>"
      ]
     },
     "metadata": {},
     "output_type": "display_data"
    }
   ],
   "source": [
    "params = {\n",
    "    \"objective\": \"binary:logistic\",\n",
    "    \"max_depth\": 4,\n",
    "    \"eta\": 0.01,\n",
    "    \"subsample\": 0.5,\n",
    "    \"min_child_weight\": 0.5,\n",
    "}"
   ]
  },
  {
   "cell_type": "code",
   "execution_count": 41,
   "metadata": {},
   "outputs": [
    {
     "data": {
      "text/html": [
       "<table style=\"border: 2px solid white;\">\n",
       "<tr>\n",
       "<td style=\"vertical-align: top; border: 0px solid white\">\n",
       "<h3 style=\"text-align: left;\">Client</h3>\n",
       "<ul style=\"text-align: left; list-style: none; margin: 0; padding: 0;\">\n",
       "  <li><b>Scheduler: </b>tcp://127.0.0.1:58985</li>\n",
       "  <li><b>Dashboard: </b><a href='http://127.0.0.1:8787/status' target='_blank'>http://127.0.0.1:8787/status</a></li>\n",
       "</ul>\n",
       "</td>\n",
       "<td style=\"vertical-align: top; border: 0px solid white\">\n",
       "<h3 style=\"text-align: left;\">Cluster</h3>\n",
       "<ul style=\"text-align: left; list-style:none; margin: 0; padding: 0;\">\n",
       "  <li><b>Workers: </b>4</li>\n",
       "  <li><b>Cores: </b>8</li>\n",
       "  <li><b>Memory: </b>8.00 GB</li>\n",
       "</ul>\n",
       "</td>\n",
       "</tr>\n",
       "</table>"
      ],
      "text/plain": [
       "<Client: 'tcp://127.0.0.1:58985' processes=4 threads=8, memory=8.00 GB>"
      ]
     },
     "execution_count": 41,
     "metadata": {},
     "output_type": "execute_result"
    },
    {
     "data": {
      "application/javascript": [
       "\n",
       "            setTimeout(function() {\n",
       "                var nbb_cell_id = 41;\n",
       "                var nbb_unformatted_code = \"client = Client(n_workers=4, threads_per_worker=2, memory_limit=\\\"2GB\\\")\\nclient\";\n",
       "                var nbb_formatted_code = \"client = Client(n_workers=4, threads_per_worker=2, memory_limit=\\\"2GB\\\")\\nclient\";\n",
       "                var nbb_cells = Jupyter.notebook.get_cells();\n",
       "                for (var i = 0; i < nbb_cells.length; ++i) {\n",
       "                    if (nbb_cells[i].input_prompt_number == nbb_cell_id) {\n",
       "                        if (nbb_cells[i].get_text() == nbb_unformatted_code) {\n",
       "                             nbb_cells[i].set_text(nbb_formatted_code);\n",
       "                        }\n",
       "                        break;\n",
       "                    }\n",
       "                }\n",
       "            }, 500);\n",
       "            "
      ],
      "text/plain": [
       "<IPython.core.display.Javascript object>"
      ]
     },
     "metadata": {},
     "output_type": "display_data"
    }
   ],
   "source": [
    "client = Client(n_workers=4, threads_per_worker=2, memory_limit=\"2GB\")\n",
    "client"
   ]
  },
  {
   "cell_type": "code",
   "execution_count": 42,
   "metadata": {
    "scrolled": true
   },
   "outputs": [
    {
     "data": {
      "application/javascript": [
       "\n",
       "            setTimeout(function() {\n",
       "                var nbb_cell_id = 42;\n",
       "                var nbb_unformatted_code = \"bst = dask_xgboost.train(\\n    client, params, X_train_array, y_train_array, num_boost_round=5\\n)\";\n",
       "                var nbb_formatted_code = \"bst = dask_xgboost.train(\\n    client, params, X_train_array, y_train_array, num_boost_round=5\\n)\";\n",
       "                var nbb_cells = Jupyter.notebook.get_cells();\n",
       "                for (var i = 0; i < nbb_cells.length; ++i) {\n",
       "                    if (nbb_cells[i].input_prompt_number == nbb_cell_id) {\n",
       "                        if (nbb_cells[i].get_text() == nbb_unformatted_code) {\n",
       "                             nbb_cells[i].set_text(nbb_formatted_code);\n",
       "                        }\n",
       "                        break;\n",
       "                    }\n",
       "                }\n",
       "            }, 500);\n",
       "            "
      ],
      "text/plain": [
       "<IPython.core.display.Javascript object>"
      ]
     },
     "metadata": {},
     "output_type": "display_data"
    }
   ],
   "source": [
    "bst = dask_xgboost.train(\n",
    "    client, params, X_train_array, y_train_array, num_boost_round=5\n",
    ")"
   ]
  },
  {
   "cell_type": "code",
   "execution_count": 43,
   "metadata": {},
   "outputs": [
    {
     "data": {
      "text/plain": [
       "<xgboost.core.Booster at 0x1cca7c2c648>"
      ]
     },
     "execution_count": 43,
     "metadata": {},
     "output_type": "execute_result"
    },
    {
     "data": {
      "application/javascript": [
       "\n",
       "            setTimeout(function() {\n",
       "                var nbb_cell_id = 43;\n",
       "                var nbb_unformatted_code = \"bst\";\n",
       "                var nbb_formatted_code = \"bst\";\n",
       "                var nbb_cells = Jupyter.notebook.get_cells();\n",
       "                for (var i = 0; i < nbb_cells.length; ++i) {\n",
       "                    if (nbb_cells[i].input_prompt_number == nbb_cell_id) {\n",
       "                        if (nbb_cells[i].get_text() == nbb_unformatted_code) {\n",
       "                             nbb_cells[i].set_text(nbb_formatted_code);\n",
       "                        }\n",
       "                        break;\n",
       "                    }\n",
       "                }\n",
       "            }, 500);\n",
       "            "
      ],
      "text/plain": [
       "<IPython.core.display.Javascript object>"
      ]
     },
     "metadata": {},
     "output_type": "display_data"
    }
   ],
   "source": [
    "bst"
   ]
  },
  {
   "cell_type": "code",
   "execution_count": 44,
   "metadata": {},
   "outputs": [
    {
     "data": {
      "image/png": "[encoded data removed]",
      "text/plain": [
       "<Figure size 432x288 with 1 Axes>"
      ]
     },
     "metadata": {
      "needs_background": "light"
     },
     "output_type": "display_data"
    },
    {
     "data": {
      "application/javascript": [
       "\n",
       "            setTimeout(function() {\n",
       "                var nbb_cell_id = 44;\n",
       "                var nbb_unformatted_code = \"%matplotlib inline\\nimport matplotlib.pyplot as plt\\nimport xgboost\\n\\nax = xgboost.plot_importance(bst, height=0.8, max_num_features=9)\\nax.grid(False, axis=\\\"y\\\")\\nax.set_title('Estimated feature importance')\\nplt.show()\";\n",
       "                var nbb_formatted_code = \"%matplotlib inline\\nimport matplotlib.pyplot as plt\\nimport xgboost\\n\\nax = xgboost.plot_importance(bst, height=0.8, max_num_features=9)\\nax.grid(False, axis=\\\"y\\\")\\nax.set_title(\\\"Estimated feature importance\\\")\\nplt.show()\";\n",
       "                var nbb_cells = Jupyter.notebook.get_cells();\n",
       "                for (var i = 0; i < nbb_cells.length; ++i) {\n",
       "                    if (nbb_cells[i].input_prompt_number == nbb_cell_id) {\n",
       "                        if (nbb_cells[i].get_text() == nbb_unformatted_code) {\n",
       "                             nbb_cells[i].set_text(nbb_formatted_code);\n",
       "                        }\n",
       "                        break;\n",
       "                    }\n",
       "                }\n",
       "            }, 500);\n",
       "            "
      ],
      "text/plain": [
       "<IPython.core.display.Javascript object>"
      ]
     },
     "metadata": {},
     "output_type": "display_data"
    }
   ],
   "source": [
    "%matplotlib inline\n",
    "import matplotlib.pyplot as plt\n",
    "import xgboost\n",
    "\n",
    "ax = xgboost.plot_importance(bst, height=0.8, max_num_features=9)\n",
    "ax.grid(False, axis=\"y\")\n",
    "ax.set_title(\"Estimated feature importance\")\n",
    "plt.show()"
   ]
  },
  {
   "cell_type": "code",
   "execution_count": 45,
   "metadata": {},
   "outputs": [
    {
     "data": {
      "text/plain": [
       "array([0.48188978, 0.47597995, 0.4775207 , ..., 0.4775207 , 0.4775207 ,\n",
       "       0.4775207 ], dtype=float32)"
      ]
     },
     "execution_count": 45,
     "metadata": {},
     "output_type": "execute_result"
    },
    {
     "data": {
      "application/javascript": [
       "\n",
       "            setTimeout(function() {\n",
       "                var nbb_cell_id = 45;\n",
       "                var nbb_unformatted_code = \"y_pred = dask_xgboost.predict(client, bst, X_test_array).persist()\\ny_pred.compute()\";\n",
       "                var nbb_formatted_code = \"y_pred = dask_xgboost.predict(client, bst, X_test_array).persist()\\ny_pred.compute()\";\n",
       "                var nbb_cells = Jupyter.notebook.get_cells();\n",
       "                for (var i = 0; i < nbb_cells.length; ++i) {\n",
       "                    if (nbb_cells[i].input_prompt_number == nbb_cell_id) {\n",
       "                        if (nbb_cells[i].get_text() == nbb_unformatted_code) {\n",
       "                             nbb_cells[i].set_text(nbb_formatted_code);\n",
       "                        }\n",
       "                        break;\n",
       "                    }\n",
       "                }\n",
       "            }, 500);\n",
       "            "
      ],
      "text/plain": [
       "<IPython.core.display.Javascript object>"
      ]
     },
     "metadata": {},
     "output_type": "display_data"
    }
   ],
   "source": [
    "y_pred = dask_xgboost.predict(client, bst, X_test_array).persist()\n",
    "y_pred.compute()"
   ]
  },
  {
   "cell_type": "code",
   "execution_count": 46,
   "metadata": {},
   "outputs": [
    {
     "data": {
      "text/plain": [
       "array([0, 0, 0, ..., 0, 0, 0])"
      ]
     },
     "execution_count": 46,
     "metadata": {},
     "output_type": "execute_result"
    },
    {
     "data": {
      "application/javascript": [
       "\n",
       "            setTimeout(function() {\n",
       "                var nbb_cell_id = 46;\n",
       "                var nbb_unformatted_code = \"y_pred_int = (y_pred.compute() > 0.5).astype(np.int)\\ny_pred_int\";\n",
       "                var nbb_formatted_code = \"y_pred_int = (y_pred.compute() > 0.5).astype(np.int)\\ny_pred_int\";\n",
       "                var nbb_cells = Jupyter.notebook.get_cells();\n",
       "                for (var i = 0; i < nbb_cells.length; ++i) {\n",
       "                    if (nbb_cells[i].input_prompt_number == nbb_cell_id) {\n",
       "                        if (nbb_cells[i].get_text() == nbb_unformatted_code) {\n",
       "                             nbb_cells[i].set_text(nbb_formatted_code);\n",
       "                        }\n",
       "                        break;\n",
       "                    }\n",
       "                }\n",
       "            }, 500);\n",
       "            "
      ],
      "text/plain": [
       "<IPython.core.display.Javascript object>"
      ]
     },
     "metadata": {},
     "output_type": "display_data"
    }
   ],
   "source": [
    "y_pred_int = (y_pred.compute() > 0.5).astype(np.int)\n",
    "y_pred_int"
   ]
  },
  {
   "cell_type": "code",
   "execution_count": 47,
   "metadata": {},
   "outputs": [
    {
     "data": {
      "application/javascript": [
       "\n",
       "            setTimeout(function() {\n",
       "                var nbb_cell_id = 47;\n",
       "                var nbb_unformatted_code = \"from sklearn.metrics import roc_curve\\n\\ny_test, y_pred = dask.compute(y_test, y_pred)\\nfpr, tpr, _ = roc_curve(y_test, y_pred)\";\n",
       "                var nbb_formatted_code = \"from sklearn.metrics import roc_curve\\n\\ny_test, y_pred = dask.compute(y_test, y_pred)\\nfpr, tpr, _ = roc_curve(y_test, y_pred)\";\n",
       "                var nbb_cells = Jupyter.notebook.get_cells();\n",
       "                for (var i = 0; i < nbb_cells.length; ++i) {\n",
       "                    if (nbb_cells[i].input_prompt_number == nbb_cell_id) {\n",
       "                        if (nbb_cells[i].get_text() == nbb_unformatted_code) {\n",
       "                             nbb_cells[i].set_text(nbb_formatted_code);\n",
       "                        }\n",
       "                        break;\n",
       "                    }\n",
       "                }\n",
       "            }, 500);\n",
       "            "
      ],
      "text/plain": [
       "<IPython.core.display.Javascript object>"
      ]
     },
     "metadata": {},
     "output_type": "display_data"
    }
   ],
   "source": [
    "from sklearn.metrics import roc_curve\n",
    "\n",
    "y_test, y_pred = dask.compute(y_test, y_pred)\n",
    "fpr, tpr, _ = roc_curve(y_test, y_pred)"
   ]
  },
  {
   "cell_type": "code",
   "execution_count": 48,
   "metadata": {},
   "outputs": [
    {
     "data": {
      "image/png": "[encoded data removed]",
      "text/plain": [
       "<Figure size 360x360 with 1 Axes>"
      ]
     },
     "metadata": {
      "needs_background": "light"
     },
     "output_type": "display_data"
    },
    {
     "data": {
      "application/javascript": [
       "\n",
       "            setTimeout(function() {\n",
       "                var nbb_cell_id = 48;\n",
       "                var nbb_unformatted_code = \"from sklearn.metrics import auc\\n\\nfig, ax = plt.subplots(figsize=(5, 5))\\nax.plot(fpr, tpr, lw=3,\\n        label='ROC Curve (area = {:.2f})'.format(auc(fpr, tpr)))\\nax.plot([0, 1], [0, 1], 'k--', lw=2)\\nax.set(\\n    xlim=(0, 1),\\n    ylim=(0, 1),\\n    title=\\\"ROC Curve\\\",\\n    xlabel=\\\"False Positive Rate\\\",\\n    ylabel=\\\"True Positive Rate\\\",\\n)\\nax.legend();\\nplt.show()\";\n",
       "                var nbb_formatted_code = \"from sklearn.metrics import auc\\n\\nfig, ax = plt.subplots(figsize=(5, 5))\\nax.plot(fpr, tpr, lw=3, label=\\\"ROC Curve (area = {:.2f})\\\".format(auc(fpr, tpr)))\\nax.plot([0, 1], [0, 1], \\\"k--\\\", lw=2)\\nax.set(\\n    xlim=(0, 1),\\n    ylim=(0, 1),\\n    title=\\\"ROC Curve\\\",\\n    xlabel=\\\"False Positive Rate\\\",\\n    ylabel=\\\"True Positive Rate\\\",\\n)\\nax.legend()\\nplt.show()\";\n",
       "                var nbb_cells = Jupyter.notebook.get_cells();\n",
       "                for (var i = 0; i < nbb_cells.length; ++i) {\n",
       "                    if (nbb_cells[i].input_prompt_number == nbb_cell_id) {\n",
       "                        if (nbb_cells[i].get_text() == nbb_unformatted_code) {\n",
       "                             nbb_cells[i].set_text(nbb_formatted_code);\n",
       "                        }\n",
       "                        break;\n",
       "                    }\n",
       "                }\n",
       "            }, 500);\n",
       "            "
      ],
      "text/plain": [
       "<IPython.core.display.Javascript object>"
      ]
     },
     "metadata": {},
     "output_type": "display_data"
    }
   ],
   "source": [
    "from sklearn.metrics import auc\n",
    "\n",
    "fig, ax = plt.subplots(figsize=(5, 5))\n",
    "ax.plot(fpr, tpr, lw=3, label=\"ROC Curve (area = {:.2f})\".format(auc(fpr, tpr)))\n",
    "ax.plot([0, 1], [0, 1], \"k--\", lw=2)\n",
    "ax.set(\n",
    "    xlim=(0, 1),\n",
    "    ylim=(0, 1),\n",
    "    title=\"ROC Curve\",\n",
    "    xlabel=\"False Positive Rate\",\n",
    "    ylabel=\"True Positive Rate\",\n",
    ")\n",
    "ax.legend()\n",
    "plt.show()"
   ]
  },
  {
   "cell_type": "code",
   "execution_count": 49,
   "metadata": {},
   "outputs": [
    {
     "data": {
      "text/plain": [
       "array([[88596,  7205],\n",
       "       [ 8431, 23078]], dtype=int64)"
      ]
     },
     "execution_count": 49,
     "metadata": {},
     "output_type": "execute_result"
    },
    {
     "data": {
      "application/javascript": [
       "\n",
       "            setTimeout(function() {\n",
       "                var nbb_cell_id = 49;\n",
       "                var nbb_unformatted_code = \"from sklearn.metrics import confusion_matrix, classification_report\\nconfusion_matrix(y_test_array.compute(), y_pred_int)\";\n",
       "                var nbb_formatted_code = \"from sklearn.metrics import confusion_matrix, classification_report\\n\\nconfusion_matrix(y_test_array.compute(), y_pred_int)\";\n",
       "                var nbb_cells = Jupyter.notebook.get_cells();\n",
       "                for (var i = 0; i < nbb_cells.length; ++i) {\n",
       "                    if (nbb_cells[i].input_prompt_number == nbb_cell_id) {\n",
       "                        if (nbb_cells[i].get_text() == nbb_unformatted_code) {\n",
       "                             nbb_cells[i].set_text(nbb_formatted_code);\n",
       "                        }\n",
       "                        break;\n",
       "                    }\n",
       "                }\n",
       "            }, 500);\n",
       "            "
      ],
      "text/plain": [
       "<IPython.core.display.Javascript object>"
      ]
     },
     "metadata": {},
     "output_type": "display_data"
    }
   ],
   "source": [
    "from sklearn.metrics import confusion_matrix, classification_report\n",
    "confusion_matrix(y_test_array.compute(), y_pred_int)\n"
   ]
  },
  {
   "cell_type": "code",
   "execution_count": 50,
   "metadata": {},
   "outputs": [
    {
     "name": "stdout",
     "output_type": "stream",
     "text": [
      "              precision    recall  f1-score   support\n",
      "\n",
      "           0       0.91      0.92      0.92     95801\n",
      "           1       0.76      0.73      0.75     31509\n",
      "\n",
      "    accuracy                           0.88    127310\n",
      "   macro avg       0.84      0.83      0.83    127310\n",
      "weighted avg       0.88      0.88      0.88    127310\n",
      "\n"
     ]
    },
    {
     "data": {
      "application/javascript": [
       "\n",
       "            setTimeout(function() {\n",
       "                var nbb_cell_id = 50;\n",
       "                var nbb_unformatted_code = \"print(classification_report(y_test_array.compute(), y_pred_int))\";\n",
       "                var nbb_formatted_code = \"print(classification_report(y_test_array.compute(), y_pred_int))\";\n",
       "                var nbb_cells = Jupyter.notebook.get_cells();\n",
       "                for (var i = 0; i < nbb_cells.length; ++i) {\n",
       "                    if (nbb_cells[i].input_prompt_number == nbb_cell_id) {\n",
       "                        if (nbb_cells[i].get_text() == nbb_unformatted_code) {\n",
       "                             nbb_cells[i].set_text(nbb_formatted_code);\n",
       "                        }\n",
       "                        break;\n",
       "                    }\n",
       "                }\n",
       "            }, 500);\n",
       "            "
      ],
      "text/plain": [
       "<IPython.core.display.Javascript object>"
      ]
     },
     "metadata": {},
     "output_type": "display_data"
    }
   ],
   "source": [
    "print(classification_report(y_test_array.compute(), y_pred_int))"
   ]
  },
  {
   "cell_type": "markdown",
   "metadata": {},
   "source": [
    "### Random Forests and Logistic Regression"
   ]
  },
  {
   "cell_type": "code",
   "execution_count": 51,
   "metadata": {},
   "outputs": [
    {
     "data": {
      "application/javascript": [
       "\n",
       "            setTimeout(function() {\n",
       "                var nbb_cell_id = 51;\n",
       "                var nbb_unformatted_code = \" rfc = RandomForestClassifier()\";\n",
       "                var nbb_formatted_code = \"rfc = RandomForestClassifier()\";\n",
       "                var nbb_cells = Jupyter.notebook.get_cells();\n",
       "                for (var i = 0; i < nbb_cells.length; ++i) {\n",
       "                    if (nbb_cells[i].input_prompt_number == nbb_cell_id) {\n",
       "                        if (nbb_cells[i].get_text() == nbb_unformatted_code) {\n",
       "                             nbb_cells[i].set_text(nbb_formatted_code);\n",
       "                        }\n",
       "                        break;\n",
       "                    }\n",
       "                }\n",
       "            }, 500);\n",
       "            "
      ],
      "text/plain": [
       "<IPython.core.display.Javascript object>"
      ]
     },
     "metadata": {},
     "output_type": "display_data"
    }
   ],
   "source": [
    "rfc = RandomForestClassifier()"
   ]
  },
  {
   "cell_type": "code",
   "execution_count": 52,
   "metadata": {},
   "outputs": [
    {
     "data": {
      "application/javascript": [
       "\n",
       "            setTimeout(function() {\n",
       "                var nbb_cell_id = 52;\n",
       "                var nbb_unformatted_code = \"rf_grid = {\\n    \\\"max_depth\\\": [4, 5, 6],\\n    \\\"min_samples_split\\\": [0.1, 0.2, 0.3],\\n    #'rf_clas__max_leaf_nodes': [],\\n    # \\\"rf__max_samples\\\": [0.2, 0.4, 0.6, 0.8],\\n    \\\"max_features\\\": [0.25, 0.5, 0.75],\\n}\";\n",
       "                var nbb_formatted_code = \"rf_grid = {\\n    \\\"max_depth\\\": [4, 5, 6],\\n    \\\"min_samples_split\\\": [0.1, 0.2, 0.3],\\n    #'rf_clas__max_leaf_nodes': [],\\n    # \\\"rf__max_samples\\\": [0.2, 0.4, 0.6, 0.8],\\n    \\\"max_features\\\": [0.25, 0.5, 0.75],\\n}\";\n",
       "                var nbb_cells = Jupyter.notebook.get_cells();\n",
       "                for (var i = 0; i < nbb_cells.length; ++i) {\n",
       "                    if (nbb_cells[i].input_prompt_number == nbb_cell_id) {\n",
       "                        if (nbb_cells[i].get_text() == nbb_unformatted_code) {\n",
       "                             nbb_cells[i].set_text(nbb_formatted_code);\n",
       "                        }\n",
       "                        break;\n",
       "                    }\n",
       "                }\n",
       "            }, 500);\n",
       "            "
      ],
      "text/plain": [
       "<IPython.core.display.Javascript object>"
      ]
     },
     "metadata": {},
     "output_type": "display_data"
    }
   ],
   "source": [
    "rf_grid = {\n",
    "    \"max_depth\": [4, 5, 6],\n",
    "    \"min_samples_split\": [0.1, 0.2, 0.3],\n",
    "    #'rf_clas__max_leaf_nodes': [],\n",
    "    # \"rf__max_samples\": [0.2, 0.4, 0.6, 0.8],\n",
    "    \"max_features\": [0.25, 0.5, 0.75],\n",
    "}"
   ]
  },
  {
   "cell_type": "code",
   "execution_count": 53,
   "metadata": {},
   "outputs": [
    {
     "data": {
      "application/javascript": [
       "\n",
       "            setTimeout(function() {\n",
       "                var nbb_cell_id = 53;\n",
       "                var nbb_unformatted_code = \"rf_cv = GridSearchCV(rfc, rf_grid, cv=2, n_jobs=-1, verbose=1)\";\n",
       "                var nbb_formatted_code = \"rf_cv = GridSearchCV(rfc, rf_grid, cv=2, n_jobs=-1, verbose=1)\";\n",
       "                var nbb_cells = Jupyter.notebook.get_cells();\n",
       "                for (var i = 0; i < nbb_cells.length; ++i) {\n",
       "                    if (nbb_cells[i].input_prompt_number == nbb_cell_id) {\n",
       "                        if (nbb_cells[i].get_text() == nbb_unformatted_code) {\n",
       "                             nbb_cells[i].set_text(nbb_formatted_code);\n",
       "                        }\n",
       "                        break;\n",
       "                    }\n",
       "                }\n",
       "            }, 500);\n",
       "            "
      ],
      "text/plain": [
       "<IPython.core.display.Javascript object>"
      ]
     },
     "metadata": {},
     "output_type": "display_data"
    }
   ],
   "source": [
    "rf_cv = GridSearchCV(rfc, rf_grid, cv=2, n_jobs=-1, verbose=1)"
   ]
  },
  {
   "cell_type": "code",
   "execution_count": 54,
   "metadata": {
    "scrolled": true
   },
   "outputs": [
    {
     "name": "stdout",
     "output_type": "stream",
     "text": [
      "Fitting 2 folds for each of 27 candidates, totalling 54 fits\n"
     ]
    },
    {
     "name": "stderr",
     "output_type": "stream",
     "text": [
      "[Parallel(n_jobs=-1)]: Using backend DaskDistributedBackend with 8 concurrent workers.\n",
      "[Parallel(n_jobs=-1)]: Done  34 tasks      | elapsed:  5.0min\n",
      "[Parallel(n_jobs=-1)]: Done  54 out of  54 | elapsed:  6.8min finished\n"
     ]
    },
    {
     "data": {
      "application/javascript": [
       "\n",
       "            setTimeout(function() {\n",
       "                var nbb_cell_id = 54;\n",
       "                var nbb_unformatted_code = \"with joblib.parallel_backend('dask'):\\n    rf_cv.fit(X_train_array.compute(), y_train_array.compute())\";\n",
       "                var nbb_formatted_code = \"with joblib.parallel_backend(\\\"dask\\\"):\\n    rf_cv.fit(X_train_array.compute(), y_train_array.compute())\";\n",
       "                var nbb_cells = Jupyter.notebook.get_cells();\n",
       "                for (var i = 0; i < nbb_cells.length; ++i) {\n",
       "                    if (nbb_cells[i].input_prompt_number == nbb_cell_id) {\n",
       "                        if (nbb_cells[i].get_text() == nbb_unformatted_code) {\n",
       "                             nbb_cells[i].set_text(nbb_formatted_code);\n",
       "                        }\n",
       "                        break;\n",
       "                    }\n",
       "                }\n",
       "            }, 500);\n",
       "            "
      ],
      "text/plain": [
       "<IPython.core.display.Javascript object>"
      ]
     },
     "metadata": {},
     "output_type": "display_data"
    }
   ],
   "source": [
    "with joblib.parallel_backend(\"dask\"):\n",
    "    rf_cv.fit(X_train_array.compute(), y_train_array.compute())"
   ]
  },
  {
   "cell_type": "code",
   "execution_count": null,
   "metadata": {},
   "outputs": [],
   "source": []
  },
  {
   "cell_type": "code",
   "execution_count": 55,
   "metadata": {},
   "outputs": [
    {
     "data": {
      "application/javascript": [
       "\n",
       "            setTimeout(function() {\n",
       "                var nbb_cell_id = 55;\n",
       "                var nbb_unformatted_code = \"with joblib.parallel_backend('dask'):\\n    y_pred = rf_cv.predict(X_test_array)\\n    y_pred\";\n",
       "                var nbb_formatted_code = \"with joblib.parallel_backend(\\\"dask\\\"):\\n    y_pred = rf_cv.predict(X_test_array)\\n    y_pred\";\n",
       "                var nbb_cells = Jupyter.notebook.get_cells();\n",
       "                for (var i = 0; i < nbb_cells.length; ++i) {\n",
       "                    if (nbb_cells[i].input_prompt_number == nbb_cell_id) {\n",
       "                        if (nbb_cells[i].get_text() == nbb_unformatted_code) {\n",
       "                             nbb_cells[i].set_text(nbb_formatted_code);\n",
       "                        }\n",
       "                        break;\n",
       "                    }\n",
       "                }\n",
       "            }, 500);\n",
       "            "
      ],
      "text/plain": [
       "<IPython.core.display.Javascript object>"
      ]
     },
     "metadata": {},
     "output_type": "display_data"
    }
   ],
   "source": [
    "with joblib.parallel_backend(\"dask\"):\n",
    "    y_pred = rf_cv.predict(X_test_array)\n",
    "    y_pred"
   ]
  },
  {
   "cell_type": "code",
   "execution_count": 56,
   "metadata": {},
   "outputs": [
    {
     "data": {
      "text/plain": [
       "{'max_depth': 5, 'max_features': 0.5, 'min_samples_split': 0.3}"
      ]
     },
     "execution_count": 56,
     "metadata": {},
     "output_type": "execute_result"
    },
    {
     "data": {
      "application/javascript": [
       "\n",
       "            setTimeout(function() {\n",
       "                var nbb_cell_id = 56;\n",
       "                var nbb_unformatted_code = \"rf_cv.best_params_\";\n",
       "                var nbb_formatted_code = \"rf_cv.best_params_\";\n",
       "                var nbb_cells = Jupyter.notebook.get_cells();\n",
       "                for (var i = 0; i < nbb_cells.length; ++i) {\n",
       "                    if (nbb_cells[i].input_prompt_number == nbb_cell_id) {\n",
       "                        if (nbb_cells[i].get_text() == nbb_unformatted_code) {\n",
       "                             nbb_cells[i].set_text(nbb_formatted_code);\n",
       "                        }\n",
       "                        break;\n",
       "                    }\n",
       "                }\n",
       "            }, 500);\n",
       "            "
      ],
      "text/plain": [
       "<IPython.core.display.Javascript object>"
      ]
     },
     "metadata": {},
     "output_type": "display_data"
    }
   ],
   "source": [
    "rf_cv.best_params_"
   ]
  },
  {
   "cell_type": "code",
   "execution_count": 57,
   "metadata": {},
   "outputs": [
    {
     "name": "stdout",
     "output_type": "stream",
     "text": [
      "              precision    recall  f1-score   support\n",
      "\n",
      "           0       0.86      0.95      0.90     95801\n",
      "           1       0.77      0.52      0.62     31509\n",
      "\n",
      "    accuracy                           0.84    127310\n",
      "   macro avg       0.81      0.73      0.76    127310\n",
      "weighted avg       0.84      0.84      0.83    127310\n",
      "\n"
     ]
    },
    {
     "data": {
      "application/javascript": [
       "\n",
       "            setTimeout(function() {\n",
       "                var nbb_cell_id = 57;\n",
       "                var nbb_unformatted_code = \"print(classification_report(y_test, y_pred))\";\n",
       "                var nbb_formatted_code = \"print(classification_report(y_test, y_pred))\";\n",
       "                var nbb_cells = Jupyter.notebook.get_cells();\n",
       "                for (var i = 0; i < nbb_cells.length; ++i) {\n",
       "                    if (nbb_cells[i].input_prompt_number == nbb_cell_id) {\n",
       "                        if (nbb_cells[i].get_text() == nbb_unformatted_code) {\n",
       "                             nbb_cells[i].set_text(nbb_formatted_code);\n",
       "                        }\n",
       "                        break;\n",
       "                    }\n",
       "                }\n",
       "            }, 500);\n",
       "            "
      ],
      "text/plain": [
       "<IPython.core.display.Javascript object>"
      ]
     },
     "metadata": {},
     "output_type": "display_data"
    }
   ],
   "source": [
    "print(classification_report(y_test, y_pred))"
   ]
  },
  {
   "cell_type": "code",
   "execution_count": 58,
   "metadata": {
    "scrolled": true
   },
   "outputs": [
    {
     "data": {
      "text/plain": [
       "<sklearn.metrics._plot.confusion_matrix.ConfusionMatrixDisplay at 0x1cca73dd4c8>"
      ]
     },
     "execution_count": 58,
     "metadata": {},
     "output_type": "execute_result"
    },
    {
     "data": {
      "image/png": "[encoded data removed]",
      "text/plain": [
       "<Figure size 432x288 with 2 Axes>"
      ]
     },
     "metadata": {
      "needs_background": "light"
     },
     "output_type": "display_data"
    },
    {
     "data": {
      "application/javascript": [
       "\n",
       "            setTimeout(function() {\n",
       "                var nbb_cell_id = 58;\n",
       "                var nbb_unformatted_code = \"plot_confusion_matrix(rf_cv, X_test_array, y_test_array, normalize=\\\"all\\\")\";\n",
       "                var nbb_formatted_code = \"plot_confusion_matrix(rf_cv, X_test_array, y_test_array, normalize=\\\"all\\\")\";\n",
       "                var nbb_cells = Jupyter.notebook.get_cells();\n",
       "                for (var i = 0; i < nbb_cells.length; ++i) {\n",
       "                    if (nbb_cells[i].input_prompt_number == nbb_cell_id) {\n",
       "                        if (nbb_cells[i].get_text() == nbb_unformatted_code) {\n",
       "                             nbb_cells[i].set_text(nbb_formatted_code);\n",
       "                        }\n",
       "                        break;\n",
       "                    }\n",
       "                }\n",
       "            }, 500);\n",
       "            "
      ],
      "text/plain": [
       "<IPython.core.display.Javascript object>"
      ]
     },
     "metadata": {},
     "output_type": "display_data"
    }
   ],
   "source": [
    "plot_confusion_matrix(rf_cv, X_test_array, y_test_array, normalize=\"all\")"
   ]
  },
  {
   "cell_type": "code",
   "execution_count": 59,
   "metadata": {},
   "outputs": [
    {
     "name": "stderr",
     "output_type": "stream",
     "text": [
      "distributed.nanny - WARNING - Worker process still alive after 4 seconds, killing\n",
      "distributed.nanny - WARNING - Worker process still alive after 4 seconds, killing\n",
      "distributed.nanny - WARNING - Worker process still alive after 4 seconds, killing\n",
      "distributed.nanny - WARNING - Worker process still alive after 4 seconds, killing\n"
     ]
    },
    {
     "data": {
      "application/javascript": [
       "\n",
       "            setTimeout(function() {\n",
       "                var nbb_cell_id = 59;\n",
       "                var nbb_unformatted_code = \"client.close()\";\n",
       "                var nbb_formatted_code = \"client.close()\";\n",
       "                var nbb_cells = Jupyter.notebook.get_cells();\n",
       "                for (var i = 0; i < nbb_cells.length; ++i) {\n",
       "                    if (nbb_cells[i].input_prompt_number == nbb_cell_id) {\n",
       "                        if (nbb_cells[i].get_text() == nbb_unformatted_code) {\n",
       "                             nbb_cells[i].set_text(nbb_formatted_code);\n",
       "                        }\n",
       "                        break;\n",
       "                    }\n",
       "                }\n",
       "            }, 500);\n",
       "            "
      ],
      "text/plain": [
       "<IPython.core.display.Javascript object>"
      ]
     },
     "metadata": {},
     "output_type": "display_data"
    }
   ],
   "source": [
    "client.close()"
   ]
  },
  {
   "cell_type": "code",
   "execution_count": null,
   "metadata": {},
   "outputs": [],
   "source": []
  },
  {
   "cell_type": "code",
   "execution_count": null,
   "metadata": {},
   "outputs": [],
   "source": []
  }
 ],
 "metadata": {
  "kernelspec": {
   "display_name": "Python 3",
   "language": "python",
   "name": "python3"
  },
  "language_info": {
   "codemirror_mode": {
    "name": "ipython",
    "version": 3
   },
   "file_extension": ".py",
   "mimetype": "text/x-python",
   "name": "python",
   "nbconvert_exporter": "python",
   "pygments_lexer": "ipython3",
   "version": "3.7.6"
  }
 },
 "nbformat": 4,
 "nbformat_minor": 4
}
